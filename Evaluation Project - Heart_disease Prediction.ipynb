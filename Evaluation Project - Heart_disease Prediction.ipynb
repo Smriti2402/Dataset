{
 "cells": [
  {
   "cell_type": "markdown",
   "metadata": {},
   "source": [
    "<b> Objective : Heart Disease Prediction"
   ]
  },
  {
   "cell_type": "code",
   "execution_count": 107,
   "metadata": {},
   "outputs": [],
   "source": [
    "#Importing Libraries\n",
    "import pandas as pd\n",
    "import numpy as np\n",
    "import seaborn as sns\n",
    "import matplotlib.pyplot as plt"
   ]
  },
  {
   "cell_type": "code",
   "execution_count": 108,
   "metadata": {},
   "outputs": [
    {
     "data": {
      "text/html": [
       "<div>\n",
       "<style scoped>\n",
       "    .dataframe tbody tr th:only-of-type {\n",
       "        vertical-align: middle;\n",
       "    }\n",
       "\n",
       "    .dataframe tbody tr th {\n",
       "        vertical-align: top;\n",
       "    }\n",
       "\n",
       "    .dataframe thead th {\n",
       "        text-align: right;\n",
       "    }\n",
       "</style>\n",
       "<table border=\"1\" class=\"dataframe\">\n",
       "  <thead>\n",
       "    <tr style=\"text-align: right;\">\n",
       "      <th></th>\n",
       "      <th>Age</th>\n",
       "      <th>sex</th>\n",
       "      <th>CP</th>\n",
       "      <th>BP</th>\n",
       "      <th>Cholestrol</th>\n",
       "      <th>Blood_sugar</th>\n",
       "      <th>restecg</th>\n",
       "      <th>heart_rate</th>\n",
       "      <th>angina</th>\n",
       "      <th>peak_slope</th>\n",
       "      <th>slope</th>\n",
       "      <th>Calcium</th>\n",
       "      <th>Thalassemia</th>\n",
       "      <th>num</th>\n",
       "    </tr>\n",
       "  </thead>\n",
       "  <tbody>\n",
       "    <tr>\n",
       "      <th>0</th>\n",
       "      <td>63</td>\n",
       "      <td>1</td>\n",
       "      <td>4</td>\n",
       "      <td>140</td>\n",
       "      <td>160</td>\n",
       "      <td>0</td>\n",
       "      <td>1</td>\n",
       "      <td>112</td>\n",
       "      <td>1</td>\n",
       "      <td>3</td>\n",
       "      <td>2</td>\n",
       "      <td>?</td>\n",
       "      <td>?</td>\n",
       "      <td>2</td>\n",
       "    </tr>\n",
       "    <tr>\n",
       "      <th>1</th>\n",
       "      <td>44</td>\n",
       "      <td>1</td>\n",
       "      <td>4</td>\n",
       "      <td>130</td>\n",
       "      <td>209</td>\n",
       "      <td>0</td>\n",
       "      <td>1</td>\n",
       "      <td>127</td>\n",
       "      <td>0</td>\n",
       "      <td>0</td>\n",
       "      <td>?</td>\n",
       "      <td>?</td>\n",
       "      <td>?</td>\n",
       "      <td>0</td>\n",
       "    </tr>\n",
       "    <tr>\n",
       "      <th>2</th>\n",
       "      <td>60</td>\n",
       "      <td>1</td>\n",
       "      <td>4</td>\n",
       "      <td>132</td>\n",
       "      <td>218</td>\n",
       "      <td>0</td>\n",
       "      <td>1</td>\n",
       "      <td>140</td>\n",
       "      <td>1</td>\n",
       "      <td>1.5</td>\n",
       "      <td>3</td>\n",
       "      <td>?</td>\n",
       "      <td>?</td>\n",
       "      <td>2</td>\n",
       "    </tr>\n",
       "    <tr>\n",
       "      <th>3</th>\n",
       "      <td>55</td>\n",
       "      <td>1</td>\n",
       "      <td>4</td>\n",
       "      <td>142</td>\n",
       "      <td>228</td>\n",
       "      <td>0</td>\n",
       "      <td>1</td>\n",
       "      <td>149</td>\n",
       "      <td>1</td>\n",
       "      <td>2.5</td>\n",
       "      <td>1</td>\n",
       "      <td>?</td>\n",
       "      <td>?</td>\n",
       "      <td>1</td>\n",
       "    </tr>\n",
       "    <tr>\n",
       "      <th>4</th>\n",
       "      <td>66</td>\n",
       "      <td>1</td>\n",
       "      <td>3</td>\n",
       "      <td>110</td>\n",
       "      <td>213</td>\n",
       "      <td>1</td>\n",
       "      <td>2</td>\n",
       "      <td>99</td>\n",
       "      <td>1</td>\n",
       "      <td>1.3</td>\n",
       "      <td>2</td>\n",
       "      <td>?</td>\n",
       "      <td>?</td>\n",
       "      <td>0</td>\n",
       "    </tr>\n",
       "    <tr>\n",
       "      <th>...</th>\n",
       "      <td>...</td>\n",
       "      <td>...</td>\n",
       "      <td>...</td>\n",
       "      <td>...</td>\n",
       "      <td>...</td>\n",
       "      <td>...</td>\n",
       "      <td>...</td>\n",
       "      <td>...</td>\n",
       "      <td>...</td>\n",
       "      <td>...</td>\n",
       "      <td>...</td>\n",
       "      <td>...</td>\n",
       "      <td>...</td>\n",
       "      <td>...</td>\n",
       "    </tr>\n",
       "    <tr>\n",
       "      <th>195</th>\n",
       "      <td>54</td>\n",
       "      <td>0</td>\n",
       "      <td>4</td>\n",
       "      <td>127</td>\n",
       "      <td>333</td>\n",
       "      <td>1</td>\n",
       "      <td>1</td>\n",
       "      <td>154</td>\n",
       "      <td>0</td>\n",
       "      <td>0</td>\n",
       "      <td>?</td>\n",
       "      <td>?</td>\n",
       "      <td>?</td>\n",
       "      <td>1</td>\n",
       "    </tr>\n",
       "    <tr>\n",
       "      <th>196</th>\n",
       "      <td>62</td>\n",
       "      <td>1</td>\n",
       "      <td>1</td>\n",
       "      <td>?</td>\n",
       "      <td>139</td>\n",
       "      <td>0</td>\n",
       "      <td>1</td>\n",
       "      <td>?</td>\n",
       "      <td>?</td>\n",
       "      <td>?</td>\n",
       "      <td>?</td>\n",
       "      <td>?</td>\n",
       "      <td>?</td>\n",
       "      <td>0</td>\n",
       "    </tr>\n",
       "    <tr>\n",
       "      <th>197</th>\n",
       "      <td>55</td>\n",
       "      <td>1</td>\n",
       "      <td>4</td>\n",
       "      <td>122</td>\n",
       "      <td>223</td>\n",
       "      <td>1</td>\n",
       "      <td>1</td>\n",
       "      <td>100</td>\n",
       "      <td>0</td>\n",
       "      <td>0</td>\n",
       "      <td>?</td>\n",
       "      <td>?</td>\n",
       "      <td>6</td>\n",
       "      <td>2</td>\n",
       "    </tr>\n",
       "    <tr>\n",
       "      <th>198</th>\n",
       "      <td>58</td>\n",
       "      <td>1</td>\n",
       "      <td>4</td>\n",
       "      <td>?</td>\n",
       "      <td>385</td>\n",
       "      <td>1</td>\n",
       "      <td>2</td>\n",
       "      <td>?</td>\n",
       "      <td>?</td>\n",
       "      <td>?</td>\n",
       "      <td>?</td>\n",
       "      <td>?</td>\n",
       "      <td>?</td>\n",
       "      <td>0</td>\n",
       "    </tr>\n",
       "    <tr>\n",
       "      <th>199</th>\n",
       "      <td>62</td>\n",
       "      <td>1</td>\n",
       "      <td>2</td>\n",
       "      <td>120</td>\n",
       "      <td>254</td>\n",
       "      <td>0</td>\n",
       "      <td>2</td>\n",
       "      <td>93</td>\n",
       "      <td>1</td>\n",
       "      <td>0</td>\n",
       "      <td>?</td>\n",
       "      <td>?</td>\n",
       "      <td>?</td>\n",
       "      <td>1</td>\n",
       "    </tr>\n",
       "  </tbody>\n",
       "</table>\n",
       "<p>200 rows × 14 columns</p>\n",
       "</div>"
      ],
      "text/plain": [
       "     Age  sex  CP   BP Cholestrol Blood_sugar  restecg heart_rate angina  \\\n",
       "0     63    1   4  140        160           0        1        112      1   \n",
       "1     44    1   4  130        209           0        1        127      0   \n",
       "2     60    1   4  132        218           0        1        140      1   \n",
       "3     55    1   4  142        228           0        1        149      1   \n",
       "4     66    1   3  110        213           1        2         99      1   \n",
       "..   ...  ...  ..  ...        ...         ...      ...        ...    ...   \n",
       "195   54    0   4  127        333           1        1        154      0   \n",
       "196   62    1   1    ?        139           0        1          ?      ?   \n",
       "197   55    1   4  122        223           1        1        100      0   \n",
       "198   58    1   4    ?        385           1        2          ?      ?   \n",
       "199   62    1   2  120        254           0        2         93      1   \n",
       "\n",
       "    peak_slope slope Calcium Thalassemia  num  \n",
       "0            3     2       ?           ?    2  \n",
       "1            0     ?       ?           ?    0  \n",
       "2          1.5     3       ?           ?    2  \n",
       "3          2.5     1       ?           ?    1  \n",
       "4          1.3     2       ?           ?    0  \n",
       "..         ...   ...     ...         ...  ...  \n",
       "195          0     ?       ?           ?    1  \n",
       "196          ?     ?       ?           ?    0  \n",
       "197          0     ?       ?           6    2  \n",
       "198          ?     ?       ?           ?    0  \n",
       "199          0     ?       ?           ?    1  \n",
       "\n",
       "[200 rows x 14 columns]"
      ]
     },
     "execution_count": 108,
     "metadata": {},
     "output_type": "execute_result"
    }
   ],
   "source": [
    "#Reading data .csv file\n",
    "hrt=pd.read_csv('Heart_Disease.csv')\n",
    "hrt"
   ]
  },
  {
   "cell_type": "markdown",
   "metadata": {},
   "source": [
    "From above data, observing many columns are having special character '?', will be replacing those values with 0"
   ]
  },
  {
   "cell_type": "code",
   "execution_count": 109,
   "metadata": {},
   "outputs": [
    {
     "name": "stdout",
     "output_type": "stream",
     "text": [
      "<class 'pandas.core.frame.DataFrame'>\n",
      "RangeIndex: 200 entries, 0 to 199\n",
      "Data columns (total 14 columns):\n",
      " #   Column       Non-Null Count  Dtype \n",
      "---  ------       --------------  ----- \n",
      " 0   Age          200 non-null    int64 \n",
      " 1   sex          200 non-null    int64 \n",
      " 2   CP           200 non-null    int64 \n",
      " 3   BP           200 non-null    object\n",
      " 4   Cholestrol   200 non-null    object\n",
      " 5   Blood_sugar  200 non-null    object\n",
      " 6   restecg      200 non-null    int64 \n",
      " 7   heart_rate   200 non-null    object\n",
      " 8   angina       200 non-null    object\n",
      " 9   peak_slope   200 non-null    object\n",
      " 10  slope        200 non-null    object\n",
      " 11  Calcium      200 non-null    object\n",
      " 12  Thalassemia  200 non-null    object\n",
      " 13  num          200 non-null    int64 \n",
      "dtypes: int64(5), object(9)\n",
      "memory usage: 22.0+ KB\n"
     ]
    }
   ],
   "source": [
    "#collecting basic information on our dataset.\n",
    "hrt.info()"
   ]
  },
  {
   "cell_type": "markdown",
   "metadata": {},
   "source": [
    "Columns like BP,Cholestrol,Blood_sugar,heart_rate,angina,peak_slope,slope ,Calcium,Thalassemia are all in object datatype. We will be working on converting them into int or float format. "
   ]
  },
  {
   "cell_type": "code",
   "execution_count": 110,
   "metadata": {},
   "outputs": [
    {
     "data": {
      "text/plain": [
       "Index(['Age', 'sex', 'CP', 'BP', 'Cholestrol', 'Blood_sugar', 'restecg',\n",
       "       'heart_rate', 'angina', 'peak_slope', 'slope', 'Calcium', 'Thalassemia',\n",
       "       'num'],\n",
       "      dtype='object')"
      ]
     },
     "execution_count": 110,
     "metadata": {},
     "output_type": "execute_result"
    }
   ],
   "source": [
    "#Column details\n",
    "hrt.columns"
   ]
  },
  {
   "cell_type": "markdown",
   "metadata": {},
   "source": [
    "----"
   ]
  },
  {
   "cell_type": "markdown",
   "metadata": {},
   "source": [
    "<b>Observed many columns with unknown identifier '?'"
   ]
  },
  {
   "cell_type": "code",
   "execution_count": 111,
   "metadata": {},
   "outputs": [
    {
     "data": {
      "text/plain": [
       "['?',\n",
       " '?',\n",
       " '?',\n",
       " '?',\n",
       " '?',\n",
       " '?',\n",
       " '?',\n",
       " '?',\n",
       " '?',\n",
       " '?',\n",
       " '?',\n",
       " '?',\n",
       " '?',\n",
       " '?',\n",
       " '?',\n",
       " '?',\n",
       " '?',\n",
       " '?',\n",
       " '?',\n",
       " '?',\n",
       " '?',\n",
       " '?',\n",
       " '?',\n",
       " '?',\n",
       " '?',\n",
       " '?',\n",
       " '?',\n",
       " '?',\n",
       " '?',\n",
       " '?',\n",
       " '?',\n",
       " '?',\n",
       " '?',\n",
       " '?',\n",
       " '?',\n",
       " '?',\n",
       " '?',\n",
       " '?',\n",
       " '?',\n",
       " '?',\n",
       " '?',\n",
       " '?',\n",
       " '?',\n",
       " '?',\n",
       " '?',\n",
       " '?',\n",
       " '?',\n",
       " '?',\n",
       " '?',\n",
       " '?',\n",
       " '?',\n",
       " '?',\n",
       " '?',\n",
       " '?',\n",
       " '?',\n",
       " '?']"
      ]
     },
     "execution_count": 111,
     "metadata": {},
     "output_type": "execute_result"
    }
   ],
   "source": [
    "#unknown identifier '?'\n",
    "#Working on removing special character from the dataset using for loop\n",
    "\n",
    "m=[i for i in hrt['BP'] if i =='?']\n",
    "m"
   ]
  },
  {
   "cell_type": "markdown",
   "metadata": {},
   "source": [
    "As the dataset is all interger, using lambda method to replace special character from the file"
   ]
  },
  {
   "cell_type": "code",
   "execution_count": 112,
   "metadata": {},
   "outputs": [
    {
     "data": {
      "text/plain": [
       "0      140\n",
       "1      130\n",
       "2      132\n",
       "3      142\n",
       "4      110\n",
       "      ... \n",
       "195    127\n",
       "196      0\n",
       "197    122\n",
       "198      0\n",
       "199    120\n",
       "Name: BP, Length: 200, dtype: object"
      ]
     },
     "execution_count": 112,
     "metadata": {},
     "output_type": "execute_result"
    }
   ],
   "source": [
    "#Taking BP as sample work\n",
    "\n",
    "hrt['BP']=hrt['BP'].apply(lambda x: str(x).replace('?','0') if '?' in str(x) else str(x))\n",
    "hrt['BP']"
   ]
  },
  {
   "cell_type": "markdown",
   "metadata": {},
   "source": [
    "<b> Below is the cleaned data for column BP , Hence will be working on other columns as well"
   ]
  },
  {
   "cell_type": "code",
   "execution_count": 113,
   "metadata": {},
   "outputs": [
    {
     "data": {
      "text/plain": [
       "[]"
      ]
     },
     "execution_count": 113,
     "metadata": {},
     "output_type": "execute_result"
    }
   ],
   "source": [
    "#Data is clean now\n",
    "\n",
    "m=[i for i in hrt['BP'] if i=='?']\n",
    "m\n"
   ]
  },
  {
   "cell_type": "code",
   "execution_count": 114,
   "metadata": {},
   "outputs": [],
   "source": [
    "#Performed Data cleaning on rest of the other columns\n",
    "\n",
    "hrt['Age']=hrt['Age'].apply(lambda x: str(x).replace('?','0') if '?' in str(x) else str(x))\n",
    "hrt['sex']=hrt['sex'].apply(lambda x: str(x).replace('?','0') if '?' in str(x) else str(x))\n",
    "hrt['CP']=hrt['CP'].apply(lambda x: str(x).replace('?','0') if '?' in str(x) else str(x))\n",
    "hrt['BP']=hrt['BP'].apply(lambda x: str(x).replace('?','0') if '?' in str(x) else str(x))\n",
    "hrt['Cholestrol']=hrt['Cholestrol'].apply(lambda x: str(x).replace('?','0') if '?' in str(x) else str(x))\n",
    "hrt['Blood_sugar']=hrt['Blood_sugar'].apply(lambda x: str(x).replace('?','0') if '?' in str(x) else str(x))\n",
    "hrt['restecg']=hrt['restecg'].apply(lambda x: str(x).replace('?','0') if '?' in str(x) else str(x))\n",
    "hrt['heart_rate']=hrt['heart_rate'].apply(lambda x: str(x).replace('?','0') if '?' in str(x) else str(x))\n",
    "hrt['angina']=hrt['angina'].apply(lambda x: str(x).replace('?','0') if '?' in str(x) else str(x))\n",
    "hrt['peak_slope']=hrt['peak_slope'].apply(lambda x: str(x).replace('?','0') if '?' in str(x) else str(x))\n",
    "hrt['slope']=hrt['slope'].apply(lambda x: str(x).replace('?','0') if '?' in str(x) else str(x))\n",
    "hrt['Calcium']=hrt['Calcium'].apply(lambda x: str(x).replace('?','0') if '?' in str(x) else str(x))\n",
    "hrt['Thalassemia']=hrt['Thalassemia'].apply(lambda x: str(x).replace('?','0') if '?' in str(x) else str(x))\n",
    "hrt['num']=hrt['num'].apply(lambda x: str(x).replace('?','0') if '?' in str(x) else str(x))"
   ]
  },
  {
   "cell_type": "code",
   "execution_count": 115,
   "metadata": {},
   "outputs": [
    {
     "data": {
      "text/html": [
       "<div>\n",
       "<style scoped>\n",
       "    .dataframe tbody tr th:only-of-type {\n",
       "        vertical-align: middle;\n",
       "    }\n",
       "\n",
       "    .dataframe tbody tr th {\n",
       "        vertical-align: top;\n",
       "    }\n",
       "\n",
       "    .dataframe thead th {\n",
       "        text-align: right;\n",
       "    }\n",
       "</style>\n",
       "<table border=\"1\" class=\"dataframe\">\n",
       "  <thead>\n",
       "    <tr style=\"text-align: right;\">\n",
       "      <th></th>\n",
       "      <th>Age</th>\n",
       "      <th>sex</th>\n",
       "      <th>CP</th>\n",
       "      <th>BP</th>\n",
       "      <th>Cholestrol</th>\n",
       "      <th>Blood_sugar</th>\n",
       "      <th>restecg</th>\n",
       "      <th>heart_rate</th>\n",
       "      <th>angina</th>\n",
       "      <th>peak_slope</th>\n",
       "      <th>slope</th>\n",
       "      <th>Calcium</th>\n",
       "      <th>Thalassemia</th>\n",
       "      <th>num</th>\n",
       "    </tr>\n",
       "  </thead>\n",
       "  <tbody>\n",
       "    <tr>\n",
       "      <th>0</th>\n",
       "      <td>63</td>\n",
       "      <td>1</td>\n",
       "      <td>4</td>\n",
       "      <td>140</td>\n",
       "      <td>160</td>\n",
       "      <td>0</td>\n",
       "      <td>1</td>\n",
       "      <td>112</td>\n",
       "      <td>1</td>\n",
       "      <td>3</td>\n",
       "      <td>2</td>\n",
       "      <td>0</td>\n",
       "      <td>0</td>\n",
       "      <td>2</td>\n",
       "    </tr>\n",
       "    <tr>\n",
       "      <th>1</th>\n",
       "      <td>44</td>\n",
       "      <td>1</td>\n",
       "      <td>4</td>\n",
       "      <td>130</td>\n",
       "      <td>209</td>\n",
       "      <td>0</td>\n",
       "      <td>1</td>\n",
       "      <td>127</td>\n",
       "      <td>0</td>\n",
       "      <td>0</td>\n",
       "      <td>0</td>\n",
       "      <td>0</td>\n",
       "      <td>0</td>\n",
       "      <td>0</td>\n",
       "    </tr>\n",
       "    <tr>\n",
       "      <th>2</th>\n",
       "      <td>60</td>\n",
       "      <td>1</td>\n",
       "      <td>4</td>\n",
       "      <td>132</td>\n",
       "      <td>218</td>\n",
       "      <td>0</td>\n",
       "      <td>1</td>\n",
       "      <td>140</td>\n",
       "      <td>1</td>\n",
       "      <td>1.5</td>\n",
       "      <td>3</td>\n",
       "      <td>0</td>\n",
       "      <td>0</td>\n",
       "      <td>2</td>\n",
       "    </tr>\n",
       "    <tr>\n",
       "      <th>3</th>\n",
       "      <td>55</td>\n",
       "      <td>1</td>\n",
       "      <td>4</td>\n",
       "      <td>142</td>\n",
       "      <td>228</td>\n",
       "      <td>0</td>\n",
       "      <td>1</td>\n",
       "      <td>149</td>\n",
       "      <td>1</td>\n",
       "      <td>2.5</td>\n",
       "      <td>1</td>\n",
       "      <td>0</td>\n",
       "      <td>0</td>\n",
       "      <td>1</td>\n",
       "    </tr>\n",
       "    <tr>\n",
       "      <th>4</th>\n",
       "      <td>66</td>\n",
       "      <td>1</td>\n",
       "      <td>3</td>\n",
       "      <td>110</td>\n",
       "      <td>213</td>\n",
       "      <td>1</td>\n",
       "      <td>2</td>\n",
       "      <td>99</td>\n",
       "      <td>1</td>\n",
       "      <td>1.3</td>\n",
       "      <td>2</td>\n",
       "      <td>0</td>\n",
       "      <td>0</td>\n",
       "      <td>0</td>\n",
       "    </tr>\n",
       "    <tr>\n",
       "      <th>...</th>\n",
       "      <td>...</td>\n",
       "      <td>...</td>\n",
       "      <td>...</td>\n",
       "      <td>...</td>\n",
       "      <td>...</td>\n",
       "      <td>...</td>\n",
       "      <td>...</td>\n",
       "      <td>...</td>\n",
       "      <td>...</td>\n",
       "      <td>...</td>\n",
       "      <td>...</td>\n",
       "      <td>...</td>\n",
       "      <td>...</td>\n",
       "      <td>...</td>\n",
       "    </tr>\n",
       "    <tr>\n",
       "      <th>195</th>\n",
       "      <td>54</td>\n",
       "      <td>0</td>\n",
       "      <td>4</td>\n",
       "      <td>127</td>\n",
       "      <td>333</td>\n",
       "      <td>1</td>\n",
       "      <td>1</td>\n",
       "      <td>154</td>\n",
       "      <td>0</td>\n",
       "      <td>0</td>\n",
       "      <td>0</td>\n",
       "      <td>0</td>\n",
       "      <td>0</td>\n",
       "      <td>1</td>\n",
       "    </tr>\n",
       "    <tr>\n",
       "      <th>196</th>\n",
       "      <td>62</td>\n",
       "      <td>1</td>\n",
       "      <td>1</td>\n",
       "      <td>0</td>\n",
       "      <td>139</td>\n",
       "      <td>0</td>\n",
       "      <td>1</td>\n",
       "      <td>0</td>\n",
       "      <td>0</td>\n",
       "      <td>0</td>\n",
       "      <td>0</td>\n",
       "      <td>0</td>\n",
       "      <td>0</td>\n",
       "      <td>0</td>\n",
       "    </tr>\n",
       "    <tr>\n",
       "      <th>197</th>\n",
       "      <td>55</td>\n",
       "      <td>1</td>\n",
       "      <td>4</td>\n",
       "      <td>122</td>\n",
       "      <td>223</td>\n",
       "      <td>1</td>\n",
       "      <td>1</td>\n",
       "      <td>100</td>\n",
       "      <td>0</td>\n",
       "      <td>0</td>\n",
       "      <td>0</td>\n",
       "      <td>0</td>\n",
       "      <td>6</td>\n",
       "      <td>2</td>\n",
       "    </tr>\n",
       "    <tr>\n",
       "      <th>198</th>\n",
       "      <td>58</td>\n",
       "      <td>1</td>\n",
       "      <td>4</td>\n",
       "      <td>0</td>\n",
       "      <td>385</td>\n",
       "      <td>1</td>\n",
       "      <td>2</td>\n",
       "      <td>0</td>\n",
       "      <td>0</td>\n",
       "      <td>0</td>\n",
       "      <td>0</td>\n",
       "      <td>0</td>\n",
       "      <td>0</td>\n",
       "      <td>0</td>\n",
       "    </tr>\n",
       "    <tr>\n",
       "      <th>199</th>\n",
       "      <td>62</td>\n",
       "      <td>1</td>\n",
       "      <td>2</td>\n",
       "      <td>120</td>\n",
       "      <td>254</td>\n",
       "      <td>0</td>\n",
       "      <td>2</td>\n",
       "      <td>93</td>\n",
       "      <td>1</td>\n",
       "      <td>0</td>\n",
       "      <td>0</td>\n",
       "      <td>0</td>\n",
       "      <td>0</td>\n",
       "      <td>1</td>\n",
       "    </tr>\n",
       "  </tbody>\n",
       "</table>\n",
       "<p>200 rows × 14 columns</p>\n",
       "</div>"
      ],
      "text/plain": [
       "    Age sex CP   BP Cholestrol Blood_sugar restecg heart_rate angina  \\\n",
       "0    63   1  4  140        160           0       1        112      1   \n",
       "1    44   1  4  130        209           0       1        127      0   \n",
       "2    60   1  4  132        218           0       1        140      1   \n",
       "3    55   1  4  142        228           0       1        149      1   \n",
       "4    66   1  3  110        213           1       2         99      1   \n",
       "..   ..  .. ..  ...        ...         ...     ...        ...    ...   \n",
       "195  54   0  4  127        333           1       1        154      0   \n",
       "196  62   1  1    0        139           0       1          0      0   \n",
       "197  55   1  4  122        223           1       1        100      0   \n",
       "198  58   1  4    0        385           1       2          0      0   \n",
       "199  62   1  2  120        254           0       2         93      1   \n",
       "\n",
       "    peak_slope slope Calcium Thalassemia num  \n",
       "0            3     2       0           0   2  \n",
       "1            0     0       0           0   0  \n",
       "2          1.5     3       0           0   2  \n",
       "3          2.5     1       0           0   1  \n",
       "4          1.3     2       0           0   0  \n",
       "..         ...   ...     ...         ...  ..  \n",
       "195          0     0       0           0   1  \n",
       "196          0     0       0           0   0  \n",
       "197          0     0       0           6   2  \n",
       "198          0     0       0           0   0  \n",
       "199          0     0       0           0   1  \n",
       "\n",
       "[200 rows x 14 columns]"
      ]
     },
     "execution_count": 115,
     "metadata": {},
     "output_type": "execute_result"
    }
   ],
   "source": [
    "# Table looks clean now\n",
    "\n",
    "hrt"
   ]
  },
  {
   "cell_type": "markdown",
   "metadata": {},
   "source": [
    "----"
   ]
  },
  {
   "cell_type": "markdown",
   "metadata": {},
   "source": [
    "<b> Facing Datatype issue while getting Statistical data"
   ]
  },
  {
   "cell_type": "code",
   "execution_count": 116,
   "metadata": {},
   "outputs": [
    {
     "data": {
      "text/html": [
       "<div>\n",
       "<style scoped>\n",
       "    .dataframe tbody tr th:only-of-type {\n",
       "        vertical-align: middle;\n",
       "    }\n",
       "\n",
       "    .dataframe tbody tr th {\n",
       "        vertical-align: top;\n",
       "    }\n",
       "\n",
       "    .dataframe thead th {\n",
       "        text-align: right;\n",
       "    }\n",
       "</style>\n",
       "<table border=\"1\" class=\"dataframe\">\n",
       "  <thead>\n",
       "    <tr style=\"text-align: right;\">\n",
       "      <th></th>\n",
       "      <th>Age</th>\n",
       "      <th>sex</th>\n",
       "      <th>CP</th>\n",
       "      <th>BP</th>\n",
       "      <th>Cholestrol</th>\n",
       "      <th>Blood_sugar</th>\n",
       "      <th>restecg</th>\n",
       "      <th>heart_rate</th>\n",
       "      <th>angina</th>\n",
       "      <th>peak_slope</th>\n",
       "      <th>slope</th>\n",
       "      <th>Calcium</th>\n",
       "      <th>Thalassemia</th>\n",
       "      <th>num</th>\n",
       "    </tr>\n",
       "  </thead>\n",
       "  <tbody>\n",
       "    <tr>\n",
       "      <th>count</th>\n",
       "      <td>200</td>\n",
       "      <td>200</td>\n",
       "      <td>200</td>\n",
       "      <td>200</td>\n",
       "      <td>200</td>\n",
       "      <td>200</td>\n",
       "      <td>200</td>\n",
       "      <td>200</td>\n",
       "      <td>200</td>\n",
       "      <td>200</td>\n",
       "      <td>200</td>\n",
       "      <td>200</td>\n",
       "      <td>200</td>\n",
       "      <td>200</td>\n",
       "    </tr>\n",
       "    <tr>\n",
       "      <th>unique</th>\n",
       "      <td>39</td>\n",
       "      <td>2</td>\n",
       "      <td>4</td>\n",
       "      <td>40</td>\n",
       "      <td>99</td>\n",
       "      <td>2</td>\n",
       "      <td>3</td>\n",
       "      <td>60</td>\n",
       "      <td>2</td>\n",
       "      <td>14</td>\n",
       "      <td>4</td>\n",
       "      <td>1</td>\n",
       "      <td>4</td>\n",
       "      <td>5</td>\n",
       "    </tr>\n",
       "    <tr>\n",
       "      <th>top</th>\n",
       "      <td>62</td>\n",
       "      <td>1</td>\n",
       "      <td>4</td>\n",
       "      <td>0</td>\n",
       "      <td>0</td>\n",
       "      <td>0</td>\n",
       "      <td>1</td>\n",
       "      <td>0</td>\n",
       "      <td>0</td>\n",
       "      <td>0</td>\n",
       "      <td>0</td>\n",
       "      <td>0</td>\n",
       "      <td>0</td>\n",
       "      <td>1</td>\n",
       "    </tr>\n",
       "    <tr>\n",
       "      <th>freq</th>\n",
       "      <td>15</td>\n",
       "      <td>194</td>\n",
       "      <td>131</td>\n",
       "      <td>57</td>\n",
       "      <td>56</td>\n",
       "      <td>132</td>\n",
       "      <td>93</td>\n",
       "      <td>53</td>\n",
       "      <td>105</td>\n",
       "      <td>96</td>\n",
       "      <td>102</td>\n",
       "      <td>200</td>\n",
       "      <td>166</td>\n",
       "      <td>56</td>\n",
       "    </tr>\n",
       "  </tbody>\n",
       "</table>\n",
       "</div>"
      ],
      "text/plain": [
       "        Age  sex   CP   BP Cholestrol Blood_sugar restecg heart_rate angina  \\\n",
       "count   200  200  200  200        200         200     200        200    200   \n",
       "unique   39    2    4   40         99           2       3         60      2   \n",
       "top      62    1    4    0          0           0       1          0      0   \n",
       "freq     15  194  131   57         56         132      93         53    105   \n",
       "\n",
       "       peak_slope slope Calcium Thalassemia  num  \n",
       "count         200   200     200         200  200  \n",
       "unique         14     4       1           4    5  \n",
       "top             0     0       0           0    1  \n",
       "freq           96   102     200         166   56  "
      ]
     },
     "execution_count": 116,
     "metadata": {},
     "output_type": "execute_result"
    }
   ],
   "source": [
    "#Here strangely missing min max mean values from data information, on analysis found the data type for these columns\n",
    "# is object , Hence will be working on data type change\n",
    "\n",
    "hrt.describe()"
   ]
  },
  {
   "cell_type": "code",
   "execution_count": 117,
   "metadata": {},
   "outputs": [],
   "source": [
    "#Data type conversion\n",
    "\n",
    "hrt['Age']=hrt['Age'].astype(int)\n",
    "hrt['sex']=hrt['sex'].astype(int)\n",
    "hrt['CP']=hrt['CP'].astype(int)\n",
    "hrt['Cholestrol']=hrt['Cholestrol'].astype(float)\n",
    "hrt['Blood_sugar']=hrt['Blood_sugar'].astype(float)\n",
    "hrt['heart_rate']=hrt['heart_rate'].astype(int)\n",
    "hrt['restecg']=hrt['restecg'].astype(int)\n",
    "hrt['angina']=hrt['angina'].astype(int)\n",
    "hrt['peak_slope']=hrt['peak_slope'].astype(float)\n",
    "hrt['slope']=hrt['slope'].astype(int)\n",
    "hrt['Calcium']=hrt['Calcium'].astype(str)\n",
    "hrt['Thalassemia']=hrt['Thalassemia'].astype(int)\n",
    "hrt['num']=hrt['num'].astype(int)"
   ]
  },
  {
   "cell_type": "code",
   "execution_count": 118,
   "metadata": {},
   "outputs": [
    {
     "name": "stdout",
     "output_type": "stream",
     "text": [
      "<class 'pandas.core.frame.DataFrame'>\n",
      "RangeIndex: 200 entries, 0 to 199\n",
      "Data columns (total 14 columns):\n",
      " #   Column       Non-Null Count  Dtype  \n",
      "---  ------       --------------  -----  \n",
      " 0   Age          200 non-null    int32  \n",
      " 1   sex          200 non-null    int32  \n",
      " 2   CP           200 non-null    int32  \n",
      " 3   BP           200 non-null    object \n",
      " 4   Cholestrol   200 non-null    float64\n",
      " 5   Blood_sugar  200 non-null    float64\n",
      " 6   restecg      200 non-null    int32  \n",
      " 7   heart_rate   200 non-null    int32  \n",
      " 8   angina       200 non-null    int32  \n",
      " 9   peak_slope   200 non-null    float64\n",
      " 10  slope        200 non-null    int32  \n",
      " 11  Calcium      200 non-null    object \n",
      " 12  Thalassemia  200 non-null    int32  \n",
      " 13  num          200 non-null    int32  \n",
      "dtypes: float64(3), int32(9), object(2)\n",
      "memory usage: 15.0+ KB\n"
     ]
    }
   ],
   "source": [
    "#Aquired expected data type values\n",
    "\n",
    "hrt.info()"
   ]
  },
  {
   "cell_type": "code",
   "execution_count": 119,
   "metadata": {},
   "outputs": [
    {
     "data": {
      "text/html": [
       "<div>\n",
       "<style scoped>\n",
       "    .dataframe tbody tr th:only-of-type {\n",
       "        vertical-align: middle;\n",
       "    }\n",
       "\n",
       "    .dataframe tbody tr th {\n",
       "        vertical-align: top;\n",
       "    }\n",
       "\n",
       "    .dataframe thead th {\n",
       "        text-align: right;\n",
       "    }\n",
       "</style>\n",
       "<table border=\"1\" class=\"dataframe\">\n",
       "  <thead>\n",
       "    <tr style=\"text-align: right;\">\n",
       "      <th></th>\n",
       "      <th>Age</th>\n",
       "      <th>sex</th>\n",
       "      <th>CP</th>\n",
       "      <th>Cholestrol</th>\n",
       "      <th>Blood_sugar</th>\n",
       "      <th>restecg</th>\n",
       "      <th>heart_rate</th>\n",
       "      <th>angina</th>\n",
       "      <th>peak_slope</th>\n",
       "      <th>slope</th>\n",
       "      <th>Thalassemia</th>\n",
       "      <th>num</th>\n",
       "    </tr>\n",
       "  </thead>\n",
       "  <tbody>\n",
       "    <tr>\n",
       "      <th>count</th>\n",
       "      <td>200.000000</td>\n",
       "      <td>200.000000</td>\n",
       "      <td>200.000000</td>\n",
       "      <td>200.000000</td>\n",
       "      <td>200.000000</td>\n",
       "      <td>200.000000</td>\n",
       "      <td>200.00000</td>\n",
       "      <td>200.000000</td>\n",
       "      <td>200.000000</td>\n",
       "      <td>200.000000</td>\n",
       "      <td>200.000000</td>\n",
       "      <td>200.000000</td>\n",
       "    </tr>\n",
       "    <tr>\n",
       "      <th>mean</th>\n",
       "      <td>59.350000</td>\n",
       "      <td>0.970000</td>\n",
       "      <td>3.505000</td>\n",
       "      <td>171.990000</td>\n",
       "      <td>0.340000</td>\n",
       "      <td>0.735000</td>\n",
       "      <td>90.25500</td>\n",
       "      <td>0.475000</td>\n",
       "      <td>0.951000</td>\n",
       "      <td>1.045000</td>\n",
       "      <td>1.070000</td>\n",
       "      <td>1.520000</td>\n",
       "    </tr>\n",
       "    <tr>\n",
       "      <th>std</th>\n",
       "      <td>7.811697</td>\n",
       "      <td>0.171015</td>\n",
       "      <td>0.795701</td>\n",
       "      <td>116.589862</td>\n",
       "      <td>0.474898</td>\n",
       "      <td>0.683455</td>\n",
       "      <td>57.50237</td>\n",
       "      <td>0.500628</td>\n",
       "      <td>1.110344</td>\n",
       "      <td>1.166093</td>\n",
       "      <td>2.427874</td>\n",
       "      <td>1.219441</td>\n",
       "    </tr>\n",
       "    <tr>\n",
       "      <th>min</th>\n",
       "      <td>35.000000</td>\n",
       "      <td>0.000000</td>\n",
       "      <td>1.000000</td>\n",
       "      <td>0.000000</td>\n",
       "      <td>0.000000</td>\n",
       "      <td>0.000000</td>\n",
       "      <td>0.00000</td>\n",
       "      <td>0.000000</td>\n",
       "      <td>-0.500000</td>\n",
       "      <td>0.000000</td>\n",
       "      <td>0.000000</td>\n",
       "      <td>0.000000</td>\n",
       "    </tr>\n",
       "    <tr>\n",
       "      <th>25%</th>\n",
       "      <td>55.000000</td>\n",
       "      <td>1.000000</td>\n",
       "      <td>3.000000</td>\n",
       "      <td>0.000000</td>\n",
       "      <td>0.000000</td>\n",
       "      <td>0.000000</td>\n",
       "      <td>0.00000</td>\n",
       "      <td>0.000000</td>\n",
       "      <td>0.000000</td>\n",
       "      <td>0.000000</td>\n",
       "      <td>0.000000</td>\n",
       "      <td>0.000000</td>\n",
       "    </tr>\n",
       "    <tr>\n",
       "      <th>50%</th>\n",
       "      <td>60.000000</td>\n",
       "      <td>1.000000</td>\n",
       "      <td>4.000000</td>\n",
       "      <td>213.500000</td>\n",
       "      <td>0.000000</td>\n",
       "      <td>1.000000</td>\n",
       "      <td>111.50000</td>\n",
       "      <td>0.000000</td>\n",
       "      <td>0.500000</td>\n",
       "      <td>0.000000</td>\n",
       "      <td>0.000000</td>\n",
       "      <td>1.000000</td>\n",
       "    </tr>\n",
       "    <tr>\n",
       "      <th>75%</th>\n",
       "      <td>64.000000</td>\n",
       "      <td>1.000000</td>\n",
       "      <td>4.000000</td>\n",
       "      <td>254.000000</td>\n",
       "      <td>1.000000</td>\n",
       "      <td>1.000000</td>\n",
       "      <td>130.00000</td>\n",
       "      <td>1.000000</td>\n",
       "      <td>2.000000</td>\n",
       "      <td>2.000000</td>\n",
       "      <td>0.000000</td>\n",
       "      <td>3.000000</td>\n",
       "    </tr>\n",
       "    <tr>\n",
       "      <th>max</th>\n",
       "      <td>77.000000</td>\n",
       "      <td>1.000000</td>\n",
       "      <td>4.000000</td>\n",
       "      <td>458.000000</td>\n",
       "      <td>1.000000</td>\n",
       "      <td>2.000000</td>\n",
       "      <td>180.00000</td>\n",
       "      <td>1.000000</td>\n",
       "      <td>4.000000</td>\n",
       "      <td>3.000000</td>\n",
       "      <td>7.000000</td>\n",
       "      <td>4.000000</td>\n",
       "    </tr>\n",
       "  </tbody>\n",
       "</table>\n",
       "</div>"
      ],
      "text/plain": [
       "              Age         sex          CP  Cholestrol  Blood_sugar  \\\n",
       "count  200.000000  200.000000  200.000000  200.000000   200.000000   \n",
       "mean    59.350000    0.970000    3.505000  171.990000     0.340000   \n",
       "std      7.811697    0.171015    0.795701  116.589862     0.474898   \n",
       "min     35.000000    0.000000    1.000000    0.000000     0.000000   \n",
       "25%     55.000000    1.000000    3.000000    0.000000     0.000000   \n",
       "50%     60.000000    1.000000    4.000000  213.500000     0.000000   \n",
       "75%     64.000000    1.000000    4.000000  254.000000     1.000000   \n",
       "max     77.000000    1.000000    4.000000  458.000000     1.000000   \n",
       "\n",
       "          restecg  heart_rate      angina  peak_slope       slope  \\\n",
       "count  200.000000   200.00000  200.000000  200.000000  200.000000   \n",
       "mean     0.735000    90.25500    0.475000    0.951000    1.045000   \n",
       "std      0.683455    57.50237    0.500628    1.110344    1.166093   \n",
       "min      0.000000     0.00000    0.000000   -0.500000    0.000000   \n",
       "25%      0.000000     0.00000    0.000000    0.000000    0.000000   \n",
       "50%      1.000000   111.50000    0.000000    0.500000    0.000000   \n",
       "75%      1.000000   130.00000    1.000000    2.000000    2.000000   \n",
       "max      2.000000   180.00000    1.000000    4.000000    3.000000   \n",
       "\n",
       "       Thalassemia         num  \n",
       "count   200.000000  200.000000  \n",
       "mean      1.070000    1.520000  \n",
       "std       2.427874    1.219441  \n",
       "min       0.000000    0.000000  \n",
       "25%       0.000000    0.000000  \n",
       "50%       0.000000    1.000000  \n",
       "75%       0.000000    3.000000  \n",
       "max       7.000000    4.000000  "
      ]
     },
     "execution_count": 119,
     "metadata": {},
     "output_type": "execute_result"
    }
   ],
   "source": [
    "# Can see mean, std deviation, min, max now\n",
    "\n",
    "hrt.describe()"
   ]
  },
  {
   "cell_type": "markdown",
   "metadata": {},
   "source": [
    "from above set of data can see minimum age to get heart disease is 35 where as max is 77.\n",
    "\n",
    "Highest BP is 190 and lowest 0 , which could be because of the special character replaced with 0.\n",
    "\n",
    "Same could be the case with cholestrol. \n",
    "\n",
    "Should have replaced the ? special character with mean value instead of 0.\n"
   ]
  },
  {
   "cell_type": "markdown",
   "metadata": {},
   "source": [
    "----"
   ]
  },
  {
   "cell_type": "markdown",
   "metadata": {},
   "source": [
    "<b> Data Correlation and Visualisation"
   ]
  },
  {
   "cell_type": "code",
   "execution_count": 120,
   "metadata": {},
   "outputs": [
    {
     "data": {
      "text/html": [
       "<div>\n",
       "<style scoped>\n",
       "    .dataframe tbody tr th:only-of-type {\n",
       "        vertical-align: middle;\n",
       "    }\n",
       "\n",
       "    .dataframe tbody tr th {\n",
       "        vertical-align: top;\n",
       "    }\n",
       "\n",
       "    .dataframe thead th {\n",
       "        text-align: right;\n",
       "    }\n",
       "</style>\n",
       "<table border=\"1\" class=\"dataframe\">\n",
       "  <thead>\n",
       "    <tr style=\"text-align: right;\">\n",
       "      <th></th>\n",
       "      <th>Age</th>\n",
       "      <th>sex</th>\n",
       "      <th>CP</th>\n",
       "      <th>Cholestrol</th>\n",
       "      <th>Blood_sugar</th>\n",
       "      <th>restecg</th>\n",
       "      <th>heart_rate</th>\n",
       "      <th>angina</th>\n",
       "      <th>peak_slope</th>\n",
       "      <th>slope</th>\n",
       "      <th>Thalassemia</th>\n",
       "      <th>num</th>\n",
       "    </tr>\n",
       "  </thead>\n",
       "  <tbody>\n",
       "    <tr>\n",
       "      <th>Age</th>\n",
       "      <td>1.000000</td>\n",
       "      <td>0.034230</td>\n",
       "      <td>-0.038280</td>\n",
       "      <td>0.047978</td>\n",
       "      <td>0.135728</td>\n",
       "      <td>0.002400</td>\n",
       "      <td>-0.056605</td>\n",
       "      <td>0.106330</td>\n",
       "      <td>0.134659</td>\n",
       "      <td>0.092595</td>\n",
       "      <td>-0.048196</td>\n",
       "      <td>0.287289</td>\n",
       "    </tr>\n",
       "    <tr>\n",
       "      <th>sex</th>\n",
       "      <td>0.034230</td>\n",
       "      <td>1.000000</td>\n",
       "      <td>0.038036</td>\n",
       "      <td>-0.102591</td>\n",
       "      <td>-0.059400</td>\n",
       "      <td>0.060621</td>\n",
       "      <td>-0.037544</td>\n",
       "      <td>-0.008804</td>\n",
       "      <td>0.058379</td>\n",
       "      <td>0.032002</td>\n",
       "      <td>-0.091739</td>\n",
       "      <td>0.147470</td>\n",
       "    </tr>\n",
       "    <tr>\n",
       "      <th>CP</th>\n",
       "      <td>-0.038280</td>\n",
       "      <td>0.038036</td>\n",
       "      <td>1.000000</td>\n",
       "      <td>0.046368</td>\n",
       "      <td>-0.044416</td>\n",
       "      <td>0.034790</td>\n",
       "      <td>0.172127</td>\n",
       "      <td>0.277842</td>\n",
       "      <td>0.186268</td>\n",
       "      <td>0.213681</td>\n",
       "      <td>0.140282</td>\n",
       "      <td>0.168210</td>\n",
       "    </tr>\n",
       "    <tr>\n",
       "      <th>Cholestrol</th>\n",
       "      <td>0.047978</td>\n",
       "      <td>-0.102591</td>\n",
       "      <td>0.046368</td>\n",
       "      <td>1.000000</td>\n",
       "      <td>0.159615</td>\n",
       "      <td>0.000723</td>\n",
       "      <td>-0.090874</td>\n",
       "      <td>0.030042</td>\n",
       "      <td>-0.068113</td>\n",
       "      <td>-0.063460</td>\n",
       "      <td>-0.066392</td>\n",
       "      <td>0.056836</td>\n",
       "    </tr>\n",
       "    <tr>\n",
       "      <th>Blood_sugar</th>\n",
       "      <td>0.135728</td>\n",
       "      <td>-0.059400</td>\n",
       "      <td>-0.044416</td>\n",
       "      <td>0.159615</td>\n",
       "      <td>1.000000</td>\n",
       "      <td>0.170616</td>\n",
       "      <td>-0.054900</td>\n",
       "      <td>-0.217705</td>\n",
       "      <td>-0.138832</td>\n",
       "      <td>-0.100362</td>\n",
       "      <td>0.127438</td>\n",
       "      <td>0.048940</td>\n",
       "    </tr>\n",
       "    <tr>\n",
       "      <th>restecg</th>\n",
       "      <td>0.002400</td>\n",
       "      <td>0.060621</td>\n",
       "      <td>0.034790</td>\n",
       "      <td>0.000723</td>\n",
       "      <td>0.170616</td>\n",
       "      <td>1.000000</td>\n",
       "      <td>-0.028064</td>\n",
       "      <td>-0.085550</td>\n",
       "      <td>-0.115200</td>\n",
       "      <td>-0.142594</td>\n",
       "      <td>0.068775</td>\n",
       "      <td>-0.032800</td>\n",
       "    </tr>\n",
       "    <tr>\n",
       "      <th>heart_rate</th>\n",
       "      <td>-0.056605</td>\n",
       "      <td>-0.037544</td>\n",
       "      <td>0.172127</td>\n",
       "      <td>-0.090874</td>\n",
       "      <td>-0.054900</td>\n",
       "      <td>-0.028064</td>\n",
       "      <td>1.000000</td>\n",
       "      <td>0.519453</td>\n",
       "      <td>0.522083</td>\n",
       "      <td>0.522926</td>\n",
       "      <td>0.202736</td>\n",
       "      <td>0.058226</td>\n",
       "    </tr>\n",
       "    <tr>\n",
       "      <th>angina</th>\n",
       "      <td>0.106330</td>\n",
       "      <td>-0.008804</td>\n",
       "      <td>0.277842</td>\n",
       "      <td>0.030042</td>\n",
       "      <td>-0.217705</td>\n",
       "      <td>-0.085550</td>\n",
       "      <td>0.519453</td>\n",
       "      <td>1.000000</td>\n",
       "      <td>0.520305</td>\n",
       "      <td>0.539932</td>\n",
       "      <td>0.146149</td>\n",
       "      <td>0.260111</td>\n",
       "    </tr>\n",
       "    <tr>\n",
       "      <th>peak_slope</th>\n",
       "      <td>0.134659</td>\n",
       "      <td>0.058379</td>\n",
       "      <td>0.186268</td>\n",
       "      <td>-0.068113</td>\n",
       "      <td>-0.138832</td>\n",
       "      <td>-0.115200</td>\n",
       "      <td>0.522083</td>\n",
       "      <td>0.520305</td>\n",
       "      <td>1.000000</td>\n",
       "      <td>0.752707</td>\n",
       "      <td>-0.008228</td>\n",
       "      <td>0.383736</td>\n",
       "    </tr>\n",
       "    <tr>\n",
       "      <th>slope</th>\n",
       "      <td>0.092595</td>\n",
       "      <td>0.032002</td>\n",
       "      <td>0.213681</td>\n",
       "      <td>-0.063460</td>\n",
       "      <td>-0.100362</td>\n",
       "      <td>-0.142594</td>\n",
       "      <td>0.522926</td>\n",
       "      <td>0.539932</td>\n",
       "      <td>0.752707</td>\n",
       "      <td>1.000000</td>\n",
       "      <td>0.021956</td>\n",
       "      <td>0.220232</td>\n",
       "    </tr>\n",
       "    <tr>\n",
       "      <th>Thalassemia</th>\n",
       "      <td>-0.048196</td>\n",
       "      <td>-0.091739</td>\n",
       "      <td>0.140282</td>\n",
       "      <td>-0.066392</td>\n",
       "      <td>0.127438</td>\n",
       "      <td>0.068775</td>\n",
       "      <td>0.202736</td>\n",
       "      <td>0.146149</td>\n",
       "      <td>-0.008228</td>\n",
       "      <td>0.021956</td>\n",
       "      <td>1.000000</td>\n",
       "      <td>-0.119287</td>\n",
       "    </tr>\n",
       "    <tr>\n",
       "      <th>num</th>\n",
       "      <td>0.287289</td>\n",
       "      <td>0.147470</td>\n",
       "      <td>0.168210</td>\n",
       "      <td>0.056836</td>\n",
       "      <td>0.048940</td>\n",
       "      <td>-0.032800</td>\n",
       "      <td>0.058226</td>\n",
       "      <td>0.260111</td>\n",
       "      <td>0.383736</td>\n",
       "      <td>0.220232</td>\n",
       "      <td>-0.119287</td>\n",
       "      <td>1.000000</td>\n",
       "    </tr>\n",
       "  </tbody>\n",
       "</table>\n",
       "</div>"
      ],
      "text/plain": [
       "                  Age       sex        CP  Cholestrol  Blood_sugar   restecg  \\\n",
       "Age          1.000000  0.034230 -0.038280    0.047978     0.135728  0.002400   \n",
       "sex          0.034230  1.000000  0.038036   -0.102591    -0.059400  0.060621   \n",
       "CP          -0.038280  0.038036  1.000000    0.046368    -0.044416  0.034790   \n",
       "Cholestrol   0.047978 -0.102591  0.046368    1.000000     0.159615  0.000723   \n",
       "Blood_sugar  0.135728 -0.059400 -0.044416    0.159615     1.000000  0.170616   \n",
       "restecg      0.002400  0.060621  0.034790    0.000723     0.170616  1.000000   \n",
       "heart_rate  -0.056605 -0.037544  0.172127   -0.090874    -0.054900 -0.028064   \n",
       "angina       0.106330 -0.008804  0.277842    0.030042    -0.217705 -0.085550   \n",
       "peak_slope   0.134659  0.058379  0.186268   -0.068113    -0.138832 -0.115200   \n",
       "slope        0.092595  0.032002  0.213681   -0.063460    -0.100362 -0.142594   \n",
       "Thalassemia -0.048196 -0.091739  0.140282   -0.066392     0.127438  0.068775   \n",
       "num          0.287289  0.147470  0.168210    0.056836     0.048940 -0.032800   \n",
       "\n",
       "             heart_rate    angina  peak_slope     slope  Thalassemia       num  \n",
       "Age           -0.056605  0.106330    0.134659  0.092595    -0.048196  0.287289  \n",
       "sex           -0.037544 -0.008804    0.058379  0.032002    -0.091739  0.147470  \n",
       "CP             0.172127  0.277842    0.186268  0.213681     0.140282  0.168210  \n",
       "Cholestrol    -0.090874  0.030042   -0.068113 -0.063460    -0.066392  0.056836  \n",
       "Blood_sugar   -0.054900 -0.217705   -0.138832 -0.100362     0.127438  0.048940  \n",
       "restecg       -0.028064 -0.085550   -0.115200 -0.142594     0.068775 -0.032800  \n",
       "heart_rate     1.000000  0.519453    0.522083  0.522926     0.202736  0.058226  \n",
       "angina         0.519453  1.000000    0.520305  0.539932     0.146149  0.260111  \n",
       "peak_slope     0.522083  0.520305    1.000000  0.752707    -0.008228  0.383736  \n",
       "slope          0.522926  0.539932    0.752707  1.000000     0.021956  0.220232  \n",
       "Thalassemia    0.202736  0.146149   -0.008228  0.021956     1.000000 -0.119287  \n",
       "num            0.058226  0.260111    0.383736  0.220232    -0.119287  1.000000  "
      ]
     },
     "execution_count": 120,
     "metadata": {},
     "output_type": "execute_result"
    }
   ],
   "source": [
    "#Data correlation\n",
    "\n",
    "hrt.corr()\n"
   ]
  },
  {
   "cell_type": "markdown",
   "metadata": {},
   "source": [
    "Representing above correlated table into heatmap graph:"
   ]
  },
  {
   "cell_type": "code",
   "execution_count": 121,
   "metadata": {},
   "outputs": [
    {
     "data": {
      "image/png": "[encoded data removed]",
      "text/plain": [
       "<Figure size 720x432 with 2 Axes>"
      ]
     },
     "metadata": {
      "needs_background": "light"
     },
     "output_type": "display_data"
    }
   ],
   "source": [
    "#Heatmap plotting\n",
    "\n",
    "plt.figure(figsize=(10,6))\n",
    "sns.heatmap(hrt.corr())\n",
    "plt.show()"
   ]
  },
  {
   "cell_type": "markdown",
   "metadata": {},
   "source": [
    "Observations : \n",
    "\n",
    "1. Age is related to num (which is target here) to some extend.\n",
    "2. Heart rate is relative to angina,( Angina is a type of chest pain caused by reduced blood flow to the heart.)\n",
    "3. CP (Constrictive pericarditis is long-term, or chronic, inflammation of the pericardium) is related to angina.\n",
    "4. slopes are highly correlated here."
   ]
  },
  {
   "cell_type": "code",
   "execution_count": 122,
   "metadata": {},
   "outputs": [
    {
     "data": {
      "text/plain": [
       "array([[<matplotlib.axes._subplots.AxesSubplot object at 0x0000022789A959D0>,\n",
       "        <matplotlib.axes._subplots.AxesSubplot object at 0x000002278B091D90>,\n",
       "        <matplotlib.axes._subplots.AxesSubplot object at 0x000002278B0C34C0>],\n",
       "       [<matplotlib.axes._subplots.AxesSubplot object at 0x000002278B0E8C10>,\n",
       "        <matplotlib.axes._subplots.AxesSubplot object at 0x000002278B11A3D0>,\n",
       "        <matplotlib.axes._subplots.AxesSubplot object at 0x000002278B141A90>],\n",
       "       [<matplotlib.axes._subplots.AxesSubplot object at 0x000002278B141B80>,\n",
       "        <matplotlib.axes._subplots.AxesSubplot object at 0x0000022788C79DF0>,\n",
       "        <matplotlib.axes._subplots.AxesSubplot object at 0x0000022788DC7700>],\n",
       "       [<matplotlib.axes._subplots.AxesSubplot object at 0x0000022788F14820>,\n",
       "        <matplotlib.axes._subplots.AxesSubplot object at 0x0000022789018280>,\n",
       "        <matplotlib.axes._subplots.AxesSubplot object at 0x00000227899F4340>]],\n",
       "      dtype=object)"
      ]
     },
     "execution_count": 122,
     "metadata": {},
     "output_type": "execute_result"
    },
    {
     "data": {
      "image/png": "[encoded data removed]",
      "text/plain": [
       "<Figure size 432x288 with 12 Axes>"
      ]
     },
     "metadata": {
      "needs_background": "light"
     },
     "output_type": "display_data"
    }
   ],
   "source": [
    "hrt.hist()"
   ]
  },
  {
   "cell_type": "markdown",
   "metadata": {},
   "source": [
    "Major heart disease is occuring to the people between 50 to 70 year of age. \n",
    "\n",
    "Many patients are having heart rate 200.\n",
    "\n",
    "More number of Males are having heart disease as compared to females."
   ]
  },
  {
   "cell_type": "code",
   "execution_count": 123,
   "metadata": {},
   "outputs": [
    {
     "data": {
      "text/plain": [
       "<matplotlib.axes._subplots.AxesSubplot at 0x22789d201c0>"
      ]
     },
     "execution_count": 123,
     "metadata": {},
     "output_type": "execute_result"
    },
    {
     "data": {
      "image/png": "[encoded data removed]",
      "text/plain": [
       "<Figure size 432x288 with 1 Axes>"
      ]
     },
     "metadata": {
      "needs_background": "light"
     },
     "output_type": "display_data"
    }
   ],
   "source": [
    "# Num is the target variable for us from the dataset already mentioned in the project description.\n",
    "\n",
    "sns.countplot(x='num',data=hrt)"
   ]
  },
  {
   "cell_type": "markdown",
   "metadata": {},
   "source": [
    "From above graph can see num =4 is having less number of hear issues whereas num=1 and num=0 are te highest rate of having a heart disease."
   ]
  },
  {
   "cell_type": "code",
   "execution_count": 125,
   "metadata": {},
   "outputs": [
    {
     "data": {
      "text/plain": [
       "<matplotlib.axes._subplots.AxesSubplot at 0x2278b2375e0>"
      ]
     },
     "execution_count": 125,
     "metadata": {},
     "output_type": "execute_result"
    },
    {
     "data": {
      "image/png": "[encoded data removed]",
      "text/plain": [
       "<Figure size 1080x432 with 1 Axes>"
      ]
     },
     "metadata": {
      "needs_background": "light"
     },
     "output_type": "display_data"
    }
   ],
   "source": [
    "#Checking for outliers\n",
    "\n",
    "plt.figure(figsize=(15,6))\n",
    "hrt.boxplot()"
   ]
  },
  {
   "cell_type": "markdown",
   "metadata": {},
   "source": [
    "No major outliers identified in the dataset."
   ]
  },
  {
   "cell_type": "code",
   "execution_count": 126,
   "metadata": {},
   "outputs": [
    {
     "data": {
      "text/plain": [
       "<matplotlib.axes._subplots.AxesSubplot at 0x2278b33f490>"
      ]
     },
     "execution_count": 126,
     "metadata": {},
     "output_type": "execute_result"
    },
    {
     "data": {
      "image/png": "[encoded data removed]",
      "text/plain": [
       "<Figure size 1080x432 with 1 Axes>"
      ]
     },
     "metadata": {
      "needs_background": "light"
     },
     "output_type": "display_data"
    }
   ],
   "source": [
    "plt.figure(figsize=(15,6))\n",
    "sns.countplot(x='Age',data=hrt)"
   ]
  },
  {
   "cell_type": "markdown",
   "metadata": {},
   "source": [
    "Major heart cases reported for age 62 and 63 followed by 55 ,58,60 and 61"
   ]
  },
  {
   "cell_type": "markdown",
   "metadata": {},
   "source": [
    "<b>Data Processing "
   ]
  },
  {
   "cell_type": "code",
   "execution_count": 130,
   "metadata": {},
   "outputs": [],
   "source": [
    "from sklearn.preprocessing import MinMaxScaler\n",
    "from sklearn.model_selection import train_test_split\n",
    "from sklearn.linear_model import LinearRegression, Lasso,Ridge,ElasticNet\n",
    "from sklearn.svm import SVR\n",
    "from sklearn.neighbors import KNeighborsRegressor\n",
    "from sklearn.tree import DecisionTreeRegressor\n",
    "\n",
    "from sklearn.metrics import mean_absolute_error,mean_squared_error,r2_score\n"
   ]
  },
  {
   "cell_type": "markdown",
   "metadata": {},
   "source": [
    "<b>Scaling the columns.\n",
    "\n",
    "I am facing problem while keeping multiple columns in x-axis , when using decision tree it fails on having more that one column for x-axis because i am using one column in y-axis(which is our target result).\n",
    "\n",
    "I wanted to keep columns like age , cholestrol, blood sugar , CP , heeart rate in my analysis as their data can help give us more accurate results. but i could not find any method to do so. \n",
    "\n",
    "Please help suggesting method for same. \n",
    "    \n",
    "Thank you in advance."
   ]
  },
  {
   "cell_type": "code",
   "execution_count": 152,
   "metadata": {},
   "outputs": [
    {
     "data": {
      "text/plain": [
       "(      BP\n",
       " 0    140\n",
       " 1    130\n",
       " 2    132\n",
       " 3    142\n",
       " 4    110\n",
       " ..   ...\n",
       " 195  127\n",
       " 196    0\n",
       " 197  122\n",
       " 198    0\n",
       " 199  120\n",
       " \n",
       " [200 rows x 1 columns],\n",
       " 0      2\n",
       " 1      0\n",
       " 2      2\n",
       " 3      1\n",
       " 4      0\n",
       "       ..\n",
       " 195    1\n",
       " 196    0\n",
       " 197    2\n",
       " 198    0\n",
       " 199    1\n",
       " Name: num, Length: 200, dtype: int32)"
      ]
     },
     "execution_count": 152,
     "metadata": {},
     "output_type": "execute_result"
    }
   ],
   "source": [
    "y=hrt['num']\n",
    "x=hrt.drop(['Age','sex','CP','Cholestrol','Blood_sugar','restecg','angina','heart_rate','peak_slope','slope','Calcium','Thalassemia','num'],axis=1)\n",
    "x,y"
   ]
  },
  {
   "cell_type": "code",
   "execution_count": 153,
   "metadata": {},
   "outputs": [
    {
     "data": {
      "text/html": [
       "<div>\n",
       "<style scoped>\n",
       "    .dataframe tbody tr th:only-of-type {\n",
       "        vertical-align: middle;\n",
       "    }\n",
       "\n",
       "    .dataframe tbody tr th {\n",
       "        vertical-align: top;\n",
       "    }\n",
       "\n",
       "    .dataframe thead th {\n",
       "        text-align: right;\n",
       "    }\n",
       "</style>\n",
       "<table border=\"1\" class=\"dataframe\">\n",
       "  <thead>\n",
       "    <tr style=\"text-align: right;\">\n",
       "      <th></th>\n",
       "      <th>BP</th>\n",
       "    </tr>\n",
       "  </thead>\n",
       "  <tbody>\n",
       "    <tr>\n",
       "      <th>0</th>\n",
       "      <td>0.736842</td>\n",
       "    </tr>\n",
       "    <tr>\n",
       "      <th>1</th>\n",
       "      <td>0.684211</td>\n",
       "    </tr>\n",
       "    <tr>\n",
       "      <th>2</th>\n",
       "      <td>0.694737</td>\n",
       "    </tr>\n",
       "    <tr>\n",
       "      <th>3</th>\n",
       "      <td>0.747368</td>\n",
       "    </tr>\n",
       "    <tr>\n",
       "      <th>4</th>\n",
       "      <td>0.578947</td>\n",
       "    </tr>\n",
       "    <tr>\n",
       "      <th>...</th>\n",
       "      <td>...</td>\n",
       "    </tr>\n",
       "    <tr>\n",
       "      <th>195</th>\n",
       "      <td>0.668421</td>\n",
       "    </tr>\n",
       "    <tr>\n",
       "      <th>196</th>\n",
       "      <td>0.000000</td>\n",
       "    </tr>\n",
       "    <tr>\n",
       "      <th>197</th>\n",
       "      <td>0.642105</td>\n",
       "    </tr>\n",
       "    <tr>\n",
       "      <th>198</th>\n",
       "      <td>0.000000</td>\n",
       "    </tr>\n",
       "    <tr>\n",
       "      <th>199</th>\n",
       "      <td>0.631579</td>\n",
       "    </tr>\n",
       "  </tbody>\n",
       "</table>\n",
       "<p>200 rows × 1 columns</p>\n",
       "</div>"
      ],
      "text/plain": [
       "           BP\n",
       "0    0.736842\n",
       "1    0.684211\n",
       "2    0.694737\n",
       "3    0.747368\n",
       "4    0.578947\n",
       "..        ...\n",
       "195  0.668421\n",
       "196  0.000000\n",
       "197  0.642105\n",
       "198  0.000000\n",
       "199  0.631579\n",
       "\n",
       "[200 rows x 1 columns]"
      ]
     },
     "execution_count": 153,
     "metadata": {},
     "output_type": "execute_result"
    }
   ],
   "source": [
    "scaler = MinMaxScaler()\n",
    "x=pd.DataFrame(scaler.fit_transform(x),columns=x.columns)\n",
    "x"
   ]
  },
  {
   "cell_type": "code",
   "execution_count": 154,
   "metadata": {},
   "outputs": [
    {
     "data": {
      "text/plain": [
       "0      2\n",
       "1      0\n",
       "2      2\n",
       "3      1\n",
       "4      0\n",
       "      ..\n",
       "195    1\n",
       "196    0\n",
       "197    2\n",
       "198    0\n",
       "199    1\n",
       "Name: num, Length: 200, dtype: int32"
      ]
     },
     "execution_count": 154,
     "metadata": {},
     "output_type": "execute_result"
    }
   ],
   "source": [
    "y"
   ]
  },
  {
   "cell_type": "code",
   "execution_count": 155,
   "metadata": {},
   "outputs": [],
   "source": [
    "x_train,x_test,y_train,y_test = train_test_split(x,y,train_size=0.8)"
   ]
  },
  {
   "cell_type": "code",
   "execution_count": 156,
   "metadata": {},
   "outputs": [
    {
     "name": "stdout",
     "output_type": "stream",
     "text": [
      "score of  LinearRegression() is :  0.01258773503874433\n",
      "errors :\n",
      "mean_absolute_error  0.9687373578025854\n",
      "mean_squared_error  1.2472921585119303\n",
      "Root Mean  1.1168223486803666\n",
      "r2_score -0.05312266681746092\n",
      "*************************************************************************************\n",
      "\n",
      "\n",
      "score of  DecisionTreeRegressor() is :  0.284230304494164\n",
      "errors :\n",
      "mean_absolute_error  1.1770833333333333\n",
      "mean_squared_error  1.9288072726256034\n",
      "Root Mean  1.3888150606274412\n",
      "r2_score -0.6285443990506412\n",
      "*************************************************************************************\n",
      "\n",
      "\n",
      "score of  KNeighborsRegressor() is :  0.12725068814869067\n",
      "errors :\n",
      "mean_absolute_error  1.075\n",
      "mean_squared_error  1.685\n",
      "Root Mean  1.298075498574717\n",
      "r2_score -0.4226912928759896\n",
      "*************************************************************************************\n",
      "\n",
      "\n",
      "score of  SVR() is :  0.04329699546066623\n",
      "errors :\n",
      "mean_absolute_error  0.9273643916261882\n",
      "mean_squared_error  1.33349254699631\n",
      "Root Mean  1.1547694778596764\n",
      "r2_score -0.1259039974639029\n",
      "*************************************************************************************\n",
      "\n",
      "\n",
      "score of  Lasso() is :  0.0\n",
      "errors :\n",
      "mean_absolute_error  0.9584375000000002\n",
      "mean_squared_error  1.2172265624999998\n",
      "Root Mean  1.1032799112192697\n",
      "r2_score -0.027737467018469575\n",
      "*************************************************************************************\n",
      "\n",
      "\n",
      "score of  Ridge() is :  0.012554380107705487\n",
      "errors :\n",
      "mean_absolute_error  0.9682071605705371\n",
      "mean_squared_error  1.2450373153463203\n",
      "Root Mean  1.1158124015022957\n",
      "r2_score -0.051218841453357644\n",
      "*************************************************************************************\n",
      "\n",
      "\n",
      "score of  ElasticNet() is :  0.0\n",
      "errors :\n",
      "mean_absolute_error  0.9584375000000002\n",
      "mean_squared_error  1.2172265624999998\n",
      "Root Mean  1.1032799112192697\n",
      "r2_score -0.027737467018469575\n",
      "*************************************************************************************\n",
      "\n",
      "\n"
     ]
    }
   ],
   "source": [
    "model=[LinearRegression(),DecisionTreeRegressor(),KNeighborsRegressor(),SVR(),Lasso(),Ridge(),ElasticNet()]\n",
    "for m in model:\n",
    "    m.fit(x_train,y_train)\n",
    "    print('score of ', m,'is : ', m.score(x_train,y_train))\n",
    "    predm=m.predict(x_test)\n",
    "    print('errors :')\n",
    "    print('mean_absolute_error ',mean_absolute_error(y_test,predm))\n",
    "    print('mean_squared_error ', mean_squared_error(y_test,predm))\n",
    "    print('Root Mean ',np.sqrt(mean_squared_error(y_test,predm)))\n",
    "    print('r2_score',r2_score(y_test,predm))\n",
    "    print('*************************************************************************************')\n",
    "    print('\\n')"
   ]
  },
  {
   "cell_type": "markdown",
   "metadata": {},
   "source": [
    "From above models, KNeighborsRegressor model is giving less error scores where as decision tree giving more accuracy score.\n",
    "\n",
    "Hence, testing both the models for our dataset.\n",
    "\n",
    "\n",
    "score of  KNeighborsRegressor() is :  0.12725068814869067\n",
    "errors :\n",
    "mean_absolute_error  1.075\n",
    "mean_squared_error  1.685\n",
    "Root Mean  1.298075498574717\n",
    "r2_score -0.4226912928759896\n",
    "\n",
    "\n",
    "score of  DecisionTreeRegressor() is :  0.284230304494164\n",
    "errors :\n",
    "mean_absolute_error  1.1770833333333333\n",
    "mean_squared_error  1.9288072726256034\n",
    "Root Mean  1.3888150606274412\n",
    "r2_score -0.6285443990506412\n"
   ]
  },
  {
   "cell_type": "markdown",
   "metadata": {},
   "source": [
    "----"
   ]
  },
  {
   "cell_type": "markdown",
   "metadata": {},
   "source": [
    "KNeighborsRegressor model"
   ]
  },
  {
   "cell_type": "code",
   "execution_count": 184,
   "metadata": {},
   "outputs": [],
   "source": [
    "from sklearn.model_selection import cross_val_score\n",
    "from sklearn.neighbors import KNeighborsClassifier\n",
    "knn=[]\n",
    "for k in range(1,21):\n",
    "    knn_classifier=KNeighborsClassifier(n_neighbors=k)\n",
    "    score=cross_val_score(knn_classifier,x,y)\n",
    "    knn.append(score.mean())"
   ]
  },
  {
   "cell_type": "code",
   "execution_count": 185,
   "metadata": {},
   "outputs": [
    {
     "data": {
      "text/plain": [
       "Text(0, 0.5, 'scores')"
      ]
     },
     "execution_count": 185,
     "metadata": {},
     "output_type": "execute_result"
    },
    {
     "data": {
      "image/png": "[encoded data removed]",
      "text/plain": [
       "<Figure size 432x288 with 1 Axes>"
      ]
     },
     "metadata": {
      "needs_background": "light"
     },
     "output_type": "display_data"
    }
   ],
   "source": [
    "plt.plot([k for k in range(1,21)],knn)\n",
    "plt.xlabel('k value')\n",
    "plt.ylabel('scores')\n"
   ]
  },
  {
   "cell_type": "markdown",
   "metadata": {},
   "source": [
    "in above graph , I am having highest accuracy score for k=1 and 21. and then 2nd highest at 18."
   ]
  },
  {
   "cell_type": "code",
   "execution_count": 191,
   "metadata": {},
   "outputs": [
    {
     "data": {
      "text/plain": [
       "0.265"
      ]
     },
     "execution_count": 191,
     "metadata": {},
     "output_type": "execute_result"
    }
   ],
   "source": [
    "knn_classifier=KNeighborsClassifier(n_neighbors=1)\n",
    "score=cross_val_score(knn_classifier,x,y)\n",
    "score.mean()"
   ]
  },
  {
   "cell_type": "markdown",
   "metadata": {},
   "source": [
    "Above is the accuracy score for given k value."
   ]
  },
  {
   "cell_type": "markdown",
   "metadata": {},
   "source": [
    "----"
   ]
  },
  {
   "cell_type": "markdown",
   "metadata": {},
   "source": [
    "<b> Decision Tree Model"
   ]
  },
  {
   "cell_type": "code",
   "execution_count": 157,
   "metadata": {},
   "outputs": [
    {
     "data": {
      "text/plain": [
       "DecisionTreeRegressor(max_depth=5)"
      ]
     },
     "execution_count": 157,
     "metadata": {},
     "output_type": "execute_result"
    }
   ],
   "source": [
    "# Fit regression model\n",
    "regr_1 = DecisionTreeRegressor(max_depth=2)\n",
    "regr_2 = DecisionTreeRegressor(max_depth=5)\n",
    "regr_1.fit(x, y)\n",
    "regr_2.fit(x, y)"
   ]
  },
  {
   "cell_type": "code",
   "execution_count": 158,
   "metadata": {},
   "outputs": [],
   "source": [
    "# Predict\n",
    "x_test = np.arange(0.0, 5.0, 0.01)[:, np.newaxis]\n",
    "y_1 = regr_1.predict(x_test)\n",
    "y_2 = regr_2.predict(x_test)\n"
   ]
  },
  {
   "cell_type": "code",
   "execution_count": 159,
   "metadata": {},
   "outputs": [
    {
     "data": {
      "image/png": "[encoded data removed]",
      "text/plain": [
       "<Figure size 432x288 with 1 Axes>"
      ]
     },
     "metadata": {
      "needs_background": "light"
     },
     "output_type": "display_data"
    }
   ],
   "source": [
    "plt.figure()\n",
    "plt.scatter(x, y, s=20, label=\"data\")\n",
    "plt.plot(x_test, y_1,\n",
    "         label=\"max_depth=2\")\n",
    "plt.plot(x_test, y_2)\n",
    "plt.xlabel(\"data\")\n",
    "plt.ylabel(\"target\")\n",
    "plt.show()"
   ]
  },
  {
   "cell_type": "markdown",
   "metadata": {},
   "source": [
    "Here accuracy score is high when value is 1."
   ]
  },
  {
   "cell_type": "markdown",
   "metadata": {},
   "source": [
    "Cross-Validation accuracy score"
   ]
  },
  {
   "cell_type": "code",
   "execution_count": 198,
   "metadata": {},
   "outputs": [],
   "source": [
    "from sklearn.tree import DecisionTreeClassifier\n",
    "from sklearn.datasets import load_iris"
   ]
  },
  {
   "cell_type": "code",
   "execution_count": 199,
   "metadata": {},
   "outputs": [
    {
     "data": {
      "text/plain": [
       "0.265"
      ]
     },
     "execution_count": 199,
     "metadata": {},
     "output_type": "execute_result"
    }
   ],
   "source": [
    "clf=DecisionTreeClassifier(random_state=1)\n",
    "iris=load_iris()\n",
    "cross_val_score(clf, iris.data, iris.target, cv=10)\n",
    "score.mean()"
   ]
  },
  {
   "cell_type": "markdown",
   "metadata": {},
   "source": [
    "Above is the score when state value is 1."
   ]
  },
  {
   "cell_type": "code",
   "execution_count": null,
   "metadata": {},
   "outputs": [],
   "source": []
  },
  {
   "cell_type": "code",
   "execution_count": null,
   "metadata": {},
   "outputs": [],
   "source": []
  },
  {
   "cell_type": "code",
   "execution_count": null,
   "metadata": {},
   "outputs": [],
   "source": []
  },
  {
   "cell_type": "code",
   "execution_count": null,
   "metadata": {},
   "outputs": [],
   "source": []
  },
  {
   "cell_type": "code",
   "execution_count": null,
   "metadata": {},
   "outputs": [],
   "source": []
  },
  {
   "cell_type": "code",
   "execution_count": null,
   "metadata": {},
   "outputs": [],
   "source": []
  },
  {
   "cell_type": "code",
   "execution_count": null,
   "metadata": {},
   "outputs": [],
   "source": []
  },
  {
   "cell_type": "code",
   "execution_count": null,
   "metadata": {},
   "outputs": [],
   "source": []
  },
  {
   "cell_type": "code",
   "execution_count": null,
   "metadata": {},
   "outputs": [],
   "source": []
  },
  {
   "cell_type": "code",
   "execution_count": null,
   "metadata": {},
   "outputs": [],
   "source": []
  },
  {
   "cell_type": "code",
   "execution_count": null,
   "metadata": {},
   "outputs": [],
   "source": []
  },
  {
   "cell_type": "code",
   "execution_count": null,
   "metadata": {},
   "outputs": [],
   "source": []
  },
  {
   "cell_type": "code",
   "execution_count": null,
   "metadata": {},
   "outputs": [],
   "source": []
  },
  {
   "cell_type": "code",
   "execution_count": null,
   "metadata": {},
   "outputs": [],
   "source": []
  },
  {
   "cell_type": "code",
   "execution_count": null,
   "metadata": {},
   "outputs": [],
   "source": []
  },
  {
   "cell_type": "code",
   "execution_count": null,
   "metadata": {},
   "outputs": [],
   "source": []
  },
  {
   "cell_type": "code",
   "execution_count": null,
   "metadata": {},
   "outputs": [],
   "source": []
  },
  {
   "cell_type": "code",
   "execution_count": null,
   "metadata": {},
   "outputs": [],
   "source": []
  },
  {
   "cell_type": "code",
   "execution_count": null,
   "metadata": {},
   "outputs": [],
   "source": []
  },
  {
   "cell_type": "code",
   "execution_count": null,
   "metadata": {},
   "outputs": [],
   "source": []
  },
  {
   "cell_type": "code",
   "execution_count": null,
   "metadata": {},
   "outputs": [],
   "source": []
  },
  {
   "cell_type": "code",
   "execution_count": null,
   "metadata": {},
   "outputs": [],
   "source": []
  },
  {
   "cell_type": "code",
   "execution_count": null,
   "metadata": {},
   "outputs": [],
   "source": []
  },
  {
   "cell_type": "code",
   "execution_count": null,
   "metadata": {},
   "outputs": [],
   "source": []
  },
  {
   "cell_type": "code",
   "execution_count": null,
   "metadata": {},
   "outputs": [],
   "source": []
  },
  {
   "cell_type": "code",
   "execution_count": null,
   "metadata": {},
   "outputs": [],
   "source": []
  },
  {
   "cell_type": "code",
   "execution_count": null,
   "metadata": {},
   "outputs": [],
   "source": []
  },
  {
   "cell_type": "code",
   "execution_count": null,
   "metadata": {},
   "outputs": [],
   "source": []
  },
  {
   "cell_type": "code",
   "execution_count": null,
   "metadata": {},
   "outputs": [],
   "source": []
  },
  {
   "cell_type": "code",
   "execution_count": null,
   "metadata": {},
   "outputs": [],
   "source": []
  },
  {
   "cell_type": "code",
   "execution_count": null,
   "metadata": {},
   "outputs": [],
   "source": []
  },
  {
   "cell_type": "code",
   "execution_count": null,
   "metadata": {},
   "outputs": [],
   "source": []
  }
 ],
 "metadata": {
  "kernelspec": {
   "display_name": "Python 3",
   "language": "python",
   "name": "python3"
  },
  "language_info": {
   "codemirror_mode": {
    "name": "ipython",
    "version": 3
   },
   "file_extension": ".py",
   "mimetype": "text/x-python",
   "name": "python",
   "nbconvert_exporter": "python",
   "pygments_lexer": "ipython3",
   "version": "3.8.3"
  }
 },
 "nbformat": 4,
 "nbformat_minor": 4
}
