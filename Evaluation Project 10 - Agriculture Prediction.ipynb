{
 "cells": [
  {
   "cell_type": "markdown",
   "metadata": {},
   "source": [
    "<b> Objective : To estimate\\ Predict the Crop Yield"
   ]
  },
  {
   "cell_type": "code",
   "execution_count": 19,
   "metadata": {},
   "outputs": [],
   "source": [
    "# Importing important libraries\n",
    "\n",
    "import pandas as pd\n",
    "import numpy as np\n",
    "import seaborn as sns\n",
    "import matplotlib.pyplot as plt"
   ]
  },
  {
   "cell_type": "code",
   "execution_count": 20,
   "metadata": {},
   "outputs": [
    {
     "data": {
      "text/html": [
       "<div>\n",
       "<style scoped>\n",
       "    .dataframe tbody tr th:only-of-type {\n",
       "        vertical-align: middle;\n",
       "    }\n",
       "\n",
       "    .dataframe tbody tr th {\n",
       "        vertical-align: top;\n",
       "    }\n",
       "\n",
       "    .dataframe thead th {\n",
       "        text-align: right;\n",
       "    }\n",
       "</style>\n",
       "<table border=\"1\" class=\"dataframe\">\n",
       "  <thead>\n",
       "    <tr style=\"text-align: right;\">\n",
       "      <th></th>\n",
       "      <th>ID</th>\n",
       "      <th>Estimated_Insects_Count</th>\n",
       "      <th>Crop_Type</th>\n",
       "      <th>Soil_Type</th>\n",
       "      <th>Pesticide_Use_Category</th>\n",
       "      <th>Number_Doses_Week</th>\n",
       "      <th>Number_Weeks_Used</th>\n",
       "      <th>Number_Weeks_Quit</th>\n",
       "      <th>Season</th>\n",
       "      <th>Crop_Damage</th>\n",
       "    </tr>\n",
       "  </thead>\n",
       "  <tbody>\n",
       "    <tr>\n",
       "      <th>0</th>\n",
       "      <td>F00000001</td>\n",
       "      <td>188</td>\n",
       "      <td>1</td>\n",
       "      <td>0</td>\n",
       "      <td>1</td>\n",
       "      <td>0</td>\n",
       "      <td>0.0</td>\n",
       "      <td>0</td>\n",
       "      <td>1</td>\n",
       "      <td>0</td>\n",
       "    </tr>\n",
       "    <tr>\n",
       "      <th>1</th>\n",
       "      <td>F00000003</td>\n",
       "      <td>209</td>\n",
       "      <td>1</td>\n",
       "      <td>0</td>\n",
       "      <td>1</td>\n",
       "      <td>0</td>\n",
       "      <td>0.0</td>\n",
       "      <td>0</td>\n",
       "      <td>2</td>\n",
       "      <td>1</td>\n",
       "    </tr>\n",
       "    <tr>\n",
       "      <th>2</th>\n",
       "      <td>F00000004</td>\n",
       "      <td>257</td>\n",
       "      <td>1</td>\n",
       "      <td>0</td>\n",
       "      <td>1</td>\n",
       "      <td>0</td>\n",
       "      <td>0.0</td>\n",
       "      <td>0</td>\n",
       "      <td>2</td>\n",
       "      <td>1</td>\n",
       "    </tr>\n",
       "    <tr>\n",
       "      <th>3</th>\n",
       "      <td>F00000005</td>\n",
       "      <td>257</td>\n",
       "      <td>1</td>\n",
       "      <td>1</td>\n",
       "      <td>1</td>\n",
       "      <td>0</td>\n",
       "      <td>0.0</td>\n",
       "      <td>0</td>\n",
       "      <td>2</td>\n",
       "      <td>1</td>\n",
       "    </tr>\n",
       "    <tr>\n",
       "      <th>4</th>\n",
       "      <td>F00000006</td>\n",
       "      <td>342</td>\n",
       "      <td>1</td>\n",
       "      <td>0</td>\n",
       "      <td>1</td>\n",
       "      <td>0</td>\n",
       "      <td>0.0</td>\n",
       "      <td>0</td>\n",
       "      <td>2</td>\n",
       "      <td>1</td>\n",
       "    </tr>\n",
       "    <tr>\n",
       "      <th>...</th>\n",
       "      <td>...</td>\n",
       "      <td>...</td>\n",
       "      <td>...</td>\n",
       "      <td>...</td>\n",
       "      <td>...</td>\n",
       "      <td>...</td>\n",
       "      <td>...</td>\n",
       "      <td>...</td>\n",
       "      <td>...</td>\n",
       "      <td>...</td>\n",
       "    </tr>\n",
       "    <tr>\n",
       "      <th>4594</th>\n",
       "      <td>F00008078</td>\n",
       "      <td>2138</td>\n",
       "      <td>0</td>\n",
       "      <td>1</td>\n",
       "      <td>2</td>\n",
       "      <td>20</td>\n",
       "      <td>NaN</td>\n",
       "      <td>1</td>\n",
       "      <td>1</td>\n",
       "      <td>1</td>\n",
       "    </tr>\n",
       "    <tr>\n",
       "      <th>4595</th>\n",
       "      <td>F00008079</td>\n",
       "      <td>2139</td>\n",
       "      <td>0</td>\n",
       "      <td>1</td>\n",
       "      <td>2</td>\n",
       "      <td>30</td>\n",
       "      <td>47.0</td>\n",
       "      <td>2</td>\n",
       "      <td>1</td>\n",
       "      <td>1</td>\n",
       "    </tr>\n",
       "    <tr>\n",
       "      <th>4596</th>\n",
       "      <td>F00008080</td>\n",
       "      <td>2267</td>\n",
       "      <td>0</td>\n",
       "      <td>1</td>\n",
       "      <td>2</td>\n",
       "      <td>10</td>\n",
       "      <td>7.0</td>\n",
       "      <td>27</td>\n",
       "      <td>2</td>\n",
       "      <td>0</td>\n",
       "    </tr>\n",
       "    <tr>\n",
       "      <th>4597</th>\n",
       "      <td>F00008082</td>\n",
       "      <td>2267</td>\n",
       "      <td>0</td>\n",
       "      <td>1</td>\n",
       "      <td>2</td>\n",
       "      <td>10</td>\n",
       "      <td>20.0</td>\n",
       "      <td>24</td>\n",
       "      <td>2</td>\n",
       "      <td>0</td>\n",
       "    </tr>\n",
       "    <tr>\n",
       "      <th>4598</th>\n",
       "      <td>F00008083</td>\n",
       "      <td>2267</td>\n",
       "      <td>0</td>\n",
       "      <td>1</td>\n",
       "      <td>2</td>\n",
       "      <td>10</td>\n",
       "      <td>33.0</td>\n",
       "      <td>17</td>\n",
       "      <td>2</td>\n",
       "      <td>0</td>\n",
       "    </tr>\n",
       "  </tbody>\n",
       "</table>\n",
       "<p>4599 rows × 10 columns</p>\n",
       "</div>"
      ],
      "text/plain": [
       "             ID  Estimated_Insects_Count  Crop_Type  Soil_Type  \\\n",
       "0     F00000001                      188          1          0   \n",
       "1     F00000003                      209          1          0   \n",
       "2     F00000004                      257          1          0   \n",
       "3     F00000005                      257          1          1   \n",
       "4     F00000006                      342          1          0   \n",
       "...         ...                      ...        ...        ...   \n",
       "4594  F00008078                     2138          0          1   \n",
       "4595  F00008079                     2139          0          1   \n",
       "4596  F00008080                     2267          0          1   \n",
       "4597  F00008082                     2267          0          1   \n",
       "4598  F00008083                     2267          0          1   \n",
       "\n",
       "      Pesticide_Use_Category  Number_Doses_Week  Number_Weeks_Used  \\\n",
       "0                          1                  0                0.0   \n",
       "1                          1                  0                0.0   \n",
       "2                          1                  0                0.0   \n",
       "3                          1                  0                0.0   \n",
       "4                          1                  0                0.0   \n",
       "...                      ...                ...                ...   \n",
       "4594                       2                 20                NaN   \n",
       "4595                       2                 30               47.0   \n",
       "4596                       2                 10                7.0   \n",
       "4597                       2                 10               20.0   \n",
       "4598                       2                 10               33.0   \n",
       "\n",
       "      Number_Weeks_Quit  Season  Crop_Damage  \n",
       "0                     0       1            0  \n",
       "1                     0       2            1  \n",
       "2                     0       2            1  \n",
       "3                     0       2            1  \n",
       "4                     0       2            1  \n",
       "...                 ...     ...          ...  \n",
       "4594                  1       1            1  \n",
       "4595                  2       1            1  \n",
       "4596                 27       2            0  \n",
       "4597                 24       2            0  \n",
       "4598                 17       2            0  \n",
       "\n",
       "[4599 rows x 10 columns]"
      ]
     },
     "execution_count": 20,
     "metadata": {},
     "output_type": "execute_result"
    }
   ],
   "source": [
    "#Reading data .csv file\n",
    "Ag_data=pd.read_csv('Agriculture.csv')\n",
    "Ag_data"
   ]
  },
  {
   "cell_type": "code",
   "execution_count": 21,
   "metadata": {},
   "outputs": [
    {
     "data": {
      "text/plain": [
       "ID                          object\n",
       "Estimated_Insects_Count      int64\n",
       "Crop_Type                    int64\n",
       "Soil_Type                    int64\n",
       "Pesticide_Use_Category       int64\n",
       "Number_Doses_Week            int64\n",
       "Number_Weeks_Used          float64\n",
       "Number_Weeks_Quit            int64\n",
       "Season                       int64\n",
       "Crop_Damage                  int64\n",
       "dtype: object"
      ]
     },
     "execution_count": 21,
     "metadata": {},
     "output_type": "execute_result"
    }
   ],
   "source": [
    "# Understanding the datatypes for each column\n",
    "Ag_data.dtypes"
   ]
  },
  {
   "cell_type": "code",
   "execution_count": 22,
   "metadata": {},
   "outputs": [
    {
     "name": "stdout",
     "output_type": "stream",
     "text": [
      "<class 'pandas.core.frame.DataFrame'>\n",
      "RangeIndex: 4599 entries, 0 to 4598\n",
      "Data columns (total 10 columns):\n",
      " #   Column                   Non-Null Count  Dtype  \n",
      "---  ------                   --------------  -----  \n",
      " 0   ID                       4599 non-null   object \n",
      " 1   Estimated_Insects_Count  4599 non-null   int64  \n",
      " 2   Crop_Type                4599 non-null   int64  \n",
      " 3   Soil_Type                4599 non-null   int64  \n",
      " 4   Pesticide_Use_Category   4599 non-null   int64  \n",
      " 5   Number_Doses_Week        4599 non-null   int64  \n",
      " 6   Number_Weeks_Used        4157 non-null   float64\n",
      " 7   Number_Weeks_Quit        4599 non-null   int64  \n",
      " 8   Season                   4599 non-null   int64  \n",
      " 9   Crop_Damage              4599 non-null   int64  \n",
      "dtypes: float64(1), int64(8), object(1)\n",
      "memory usage: 359.4+ KB\n"
     ]
    }
   ],
   "source": [
    "# Understanding the information that we have for each column\n",
    "Ag_data.info()"
   ]
  },
  {
   "cell_type": "markdown",
   "metadata": {},
   "source": [
    "Number_Weeks_Used have some Null Values, from above data representation."
   ]
  },
  {
   "cell_type": "markdown",
   "metadata": {},
   "source": [
    "----"
   ]
  },
  {
   "cell_type": "code",
   "execution_count": 23,
   "metadata": {},
   "outputs": [
    {
     "data": {
      "text/plain": [
       "ID                           0\n",
       "Estimated_Insects_Count      0\n",
       "Crop_Type                    0\n",
       "Soil_Type                    0\n",
       "Pesticide_Use_Category       0\n",
       "Number_Doses_Week            0\n",
       "Number_Weeks_Used          442\n",
       "Number_Weeks_Quit            0\n",
       "Season                       0\n",
       "Crop_Damage                  0\n",
       "dtype: int64"
      ]
     },
     "execution_count": 23,
     "metadata": {},
     "output_type": "execute_result"
    }
   ],
   "source": [
    "# Identifying Null Values using ISNULL () method\n",
    "Ag_data.isnull().sum()"
   ]
  },
  {
   "cell_type": "markdown",
   "metadata": {},
   "source": [
    "442 Nulls found in Number_Weeks_Used column."
   ]
  },
  {
   "cell_type": "markdown",
   "metadata": {},
   "source": [
    "<b> Handling Nulls"
   ]
  },
  {
   "cell_type": "code",
   "execution_count": 33,
   "metadata": {},
   "outputs": [],
   "source": [
    "# Replacing Null value with 0\n",
    "\n",
    "Ag_data=Ag_data.fillna(0)"
   ]
  },
  {
   "cell_type": "code",
   "execution_count": 34,
   "metadata": {},
   "outputs": [
    {
     "data": {
      "text/plain": [
       "ID                         0\n",
       "Estimated_Insects_Count    0\n",
       "Crop_Type                  0\n",
       "Soil_Type                  0\n",
       "Pesticide_Use_Category     0\n",
       "Number_Doses_Week          0\n",
       "Number_Weeks_Used          0\n",
       "Number_Weeks_Quit          0\n",
       "Season                     0\n",
       "Crop_Damage                0\n",
       "dtype: int64"
      ]
     },
     "execution_count": 34,
     "metadata": {},
     "output_type": "execute_result"
    }
   ],
   "source": [
    "# No Nulls found post filling Null space with 0\n",
    "\n",
    "Ag_data.isnull().sum()"
   ]
  },
  {
   "cell_type": "markdown",
   "metadata": {},
   "source": [
    "----"
   ]
  },
  {
   "cell_type": "markdown",
   "metadata": {},
   "source": [
    "<b> Checking Statistical correlation of the dataset"
   ]
  },
  {
   "cell_type": "code",
   "execution_count": 27,
   "metadata": {},
   "outputs": [
    {
     "data": {
      "text/html": [
       "<div>\n",
       "<style scoped>\n",
       "    .dataframe tbody tr th:only-of-type {\n",
       "        vertical-align: middle;\n",
       "    }\n",
       "\n",
       "    .dataframe tbody tr th {\n",
       "        vertical-align: top;\n",
       "    }\n",
       "\n",
       "    .dataframe thead th {\n",
       "        text-align: right;\n",
       "    }\n",
       "</style>\n",
       "<table border=\"1\" class=\"dataframe\">\n",
       "  <thead>\n",
       "    <tr style=\"text-align: right;\">\n",
       "      <th></th>\n",
       "      <th>Estimated_Insects_Count</th>\n",
       "      <th>Crop_Type</th>\n",
       "      <th>Soil_Type</th>\n",
       "      <th>Pesticide_Use_Category</th>\n",
       "      <th>Number_Doses_Week</th>\n",
       "      <th>Number_Weeks_Used</th>\n",
       "      <th>Number_Weeks_Quit</th>\n",
       "      <th>Season</th>\n",
       "      <th>Crop_Damage</th>\n",
       "    </tr>\n",
       "  </thead>\n",
       "  <tbody>\n",
       "    <tr>\n",
       "      <th>count</th>\n",
       "      <td>4599.000000</td>\n",
       "      <td>4599.000000</td>\n",
       "      <td>4599.000000</td>\n",
       "      <td>4599.000000</td>\n",
       "      <td>4599.000000</td>\n",
       "      <td>4157.000000</td>\n",
       "      <td>4599.000000</td>\n",
       "      <td>4599.000000</td>\n",
       "      <td>4599.000000</td>\n",
       "    </tr>\n",
       "    <tr>\n",
       "      <th>mean</th>\n",
       "      <td>1363.000435</td>\n",
       "      <td>0.224831</td>\n",
       "      <td>0.476625</td>\n",
       "      <td>2.283540</td>\n",
       "      <td>26.477495</td>\n",
       "      <td>28.891027</td>\n",
       "      <td>9.205479</td>\n",
       "      <td>1.894325</td>\n",
       "      <td>0.194390</td>\n",
       "    </tr>\n",
       "    <tr>\n",
       "      <th>std</th>\n",
       "      <td>814.439120</td>\n",
       "      <td>0.417517</td>\n",
       "      <td>0.499508</td>\n",
       "      <td>0.471978</td>\n",
       "      <td>15.524647</td>\n",
       "      <td>12.586005</td>\n",
       "      <td>9.713253</td>\n",
       "      <td>0.694952</td>\n",
       "      <td>0.454597</td>\n",
       "    </tr>\n",
       "    <tr>\n",
       "      <th>min</th>\n",
       "      <td>150.000000</td>\n",
       "      <td>0.000000</td>\n",
       "      <td>0.000000</td>\n",
       "      <td>1.000000</td>\n",
       "      <td>0.000000</td>\n",
       "      <td>0.000000</td>\n",
       "      <td>0.000000</td>\n",
       "      <td>1.000000</td>\n",
       "      <td>0.000000</td>\n",
       "    </tr>\n",
       "    <tr>\n",
       "      <th>25%</th>\n",
       "      <td>731.000000</td>\n",
       "      <td>0.000000</td>\n",
       "      <td>0.000000</td>\n",
       "      <td>2.000000</td>\n",
       "      <td>15.000000</td>\n",
       "      <td>20.000000</td>\n",
       "      <td>0.000000</td>\n",
       "      <td>1.000000</td>\n",
       "      <td>0.000000</td>\n",
       "    </tr>\n",
       "    <tr>\n",
       "      <th>50%</th>\n",
       "      <td>1212.000000</td>\n",
       "      <td>0.000000</td>\n",
       "      <td>0.000000</td>\n",
       "      <td>2.000000</td>\n",
       "      <td>20.000000</td>\n",
       "      <td>28.000000</td>\n",
       "      <td>7.000000</td>\n",
       "      <td>2.000000</td>\n",
       "      <td>0.000000</td>\n",
       "    </tr>\n",
       "    <tr>\n",
       "      <th>75%</th>\n",
       "      <td>1786.000000</td>\n",
       "      <td>0.000000</td>\n",
       "      <td>1.000000</td>\n",
       "      <td>3.000000</td>\n",
       "      <td>40.000000</td>\n",
       "      <td>38.000000</td>\n",
       "      <td>16.000000</td>\n",
       "      <td>2.000000</td>\n",
       "      <td>0.000000</td>\n",
       "    </tr>\n",
       "    <tr>\n",
       "      <th>max</th>\n",
       "      <td>4097.000000</td>\n",
       "      <td>1.000000</td>\n",
       "      <td>1.000000</td>\n",
       "      <td>3.000000</td>\n",
       "      <td>95.000000</td>\n",
       "      <td>66.000000</td>\n",
       "      <td>47.000000</td>\n",
       "      <td>3.000000</td>\n",
       "      <td>2.000000</td>\n",
       "    </tr>\n",
       "  </tbody>\n",
       "</table>\n",
       "</div>"
      ],
      "text/plain": [
       "       Estimated_Insects_Count    Crop_Type    Soil_Type  \\\n",
       "count              4599.000000  4599.000000  4599.000000   \n",
       "mean               1363.000435     0.224831     0.476625   \n",
       "std                 814.439120     0.417517     0.499508   \n",
       "min                 150.000000     0.000000     0.000000   \n",
       "25%                 731.000000     0.000000     0.000000   \n",
       "50%                1212.000000     0.000000     0.000000   \n",
       "75%                1786.000000     0.000000     1.000000   \n",
       "max                4097.000000     1.000000     1.000000   \n",
       "\n",
       "       Pesticide_Use_Category  Number_Doses_Week  Number_Weeks_Used  \\\n",
       "count             4599.000000        4599.000000        4157.000000   \n",
       "mean                 2.283540          26.477495          28.891027   \n",
       "std                  0.471978          15.524647          12.586005   \n",
       "min                  1.000000           0.000000           0.000000   \n",
       "25%                  2.000000          15.000000          20.000000   \n",
       "50%                  2.000000          20.000000          28.000000   \n",
       "75%                  3.000000          40.000000          38.000000   \n",
       "max                  3.000000          95.000000          66.000000   \n",
       "\n",
       "       Number_Weeks_Quit       Season  Crop_Damage  \n",
       "count        4599.000000  4599.000000  4599.000000  \n",
       "mean            9.205479     1.894325     0.194390  \n",
       "std             9.713253     0.694952     0.454597  \n",
       "min             0.000000     1.000000     0.000000  \n",
       "25%             0.000000     1.000000     0.000000  \n",
       "50%             7.000000     2.000000     0.000000  \n",
       "75%            16.000000     2.000000     0.000000  \n",
       "max            47.000000     3.000000     2.000000  "
      ]
     },
     "execution_count": 27,
     "metadata": {},
     "output_type": "execute_result"
    }
   ],
   "source": [
    "# Checking statistical data\n",
    "Ag_data.describe()"
   ]
  },
  {
   "cell_type": "code",
   "execution_count": 28,
   "metadata": {},
   "outputs": [
    {
     "data": {
      "text/html": [
       "<div>\n",
       "<style scoped>\n",
       "    .dataframe tbody tr th:only-of-type {\n",
       "        vertical-align: middle;\n",
       "    }\n",
       "\n",
       "    .dataframe tbody tr th {\n",
       "        vertical-align: top;\n",
       "    }\n",
       "\n",
       "    .dataframe thead th {\n",
       "        text-align: right;\n",
       "    }\n",
       "</style>\n",
       "<table border=\"1\" class=\"dataframe\">\n",
       "  <thead>\n",
       "    <tr style=\"text-align: right;\">\n",
       "      <th></th>\n",
       "      <th>Estimated_Insects_Count</th>\n",
       "      <th>Crop_Type</th>\n",
       "      <th>Soil_Type</th>\n",
       "      <th>Pesticide_Use_Category</th>\n",
       "      <th>Number_Doses_Week</th>\n",
       "      <th>Number_Weeks_Used</th>\n",
       "      <th>Number_Weeks_Quit</th>\n",
       "      <th>Season</th>\n",
       "      <th>Crop_Damage</th>\n",
       "    </tr>\n",
       "  </thead>\n",
       "  <tbody>\n",
       "    <tr>\n",
       "      <th>Estimated_Insects_Count</th>\n",
       "      <td>1.000000</td>\n",
       "      <td>-0.036911</td>\n",
       "      <td>-0.151796</td>\n",
       "      <td>-0.027111</td>\n",
       "      <td>-0.122509</td>\n",
       "      <td>0.449470</td>\n",
       "      <td>0.246719</td>\n",
       "      <td>-0.009482</td>\n",
       "      <td>0.202312</td>\n",
       "    </tr>\n",
       "    <tr>\n",
       "      <th>Crop_Type</th>\n",
       "      <td>-0.036911</td>\n",
       "      <td>1.000000</td>\n",
       "      <td>-0.175019</td>\n",
       "      <td>0.349662</td>\n",
       "      <td>-0.163832</td>\n",
       "      <td>-0.002237</td>\n",
       "      <td>-0.273475</td>\n",
       "      <td>-0.000549</td>\n",
       "      <td>0.021772</td>\n",
       "    </tr>\n",
       "    <tr>\n",
       "      <th>Soil_Type</th>\n",
       "      <td>-0.151796</td>\n",
       "      <td>-0.175019</td>\n",
       "      <td>1.000000</td>\n",
       "      <td>0.021661</td>\n",
       "      <td>0.050099</td>\n",
       "      <td>-0.098399</td>\n",
       "      <td>-0.034355</td>\n",
       "      <td>0.011052</td>\n",
       "      <td>-0.059481</td>\n",
       "    </tr>\n",
       "    <tr>\n",
       "      <th>Pesticide_Use_Category</th>\n",
       "      <td>-0.027111</td>\n",
       "      <td>0.349662</td>\n",
       "      <td>0.021661</td>\n",
       "      <td>1.000000</td>\n",
       "      <td>-0.005985</td>\n",
       "      <td>0.387982</td>\n",
       "      <td>-0.569467</td>\n",
       "      <td>0.008487</td>\n",
       "      <td>0.199195</td>\n",
       "    </tr>\n",
       "    <tr>\n",
       "      <th>Number_Doses_Week</th>\n",
       "      <td>-0.122509</td>\n",
       "      <td>-0.163832</td>\n",
       "      <td>0.050099</td>\n",
       "      <td>-0.005985</td>\n",
       "      <td>1.000000</td>\n",
       "      <td>0.104022</td>\n",
       "      <td>-0.032381</td>\n",
       "      <td>-0.003768</td>\n",
       "      <td>-0.018363</td>\n",
       "    </tr>\n",
       "    <tr>\n",
       "      <th>Number_Weeks_Used</th>\n",
       "      <td>0.449470</td>\n",
       "      <td>-0.002237</td>\n",
       "      <td>-0.098399</td>\n",
       "      <td>0.387982</td>\n",
       "      <td>0.104022</td>\n",
       "      <td>1.000000</td>\n",
       "      <td>-0.467386</td>\n",
       "      <td>-0.011108</td>\n",
       "      <td>0.244988</td>\n",
       "    </tr>\n",
       "    <tr>\n",
       "      <th>Number_Weeks_Quit</th>\n",
       "      <td>0.246719</td>\n",
       "      <td>-0.273475</td>\n",
       "      <td>-0.034355</td>\n",
       "      <td>-0.569467</td>\n",
       "      <td>-0.032381</td>\n",
       "      <td>-0.467386</td>\n",
       "      <td>1.000000</td>\n",
       "      <td>0.004861</td>\n",
       "      <td>-0.152918</td>\n",
       "    </tr>\n",
       "    <tr>\n",
       "      <th>Season</th>\n",
       "      <td>-0.009482</td>\n",
       "      <td>-0.000549</td>\n",
       "      <td>0.011052</td>\n",
       "      <td>0.008487</td>\n",
       "      <td>-0.003768</td>\n",
       "      <td>-0.011108</td>\n",
       "      <td>0.004861</td>\n",
       "      <td>1.000000</td>\n",
       "      <td>-0.016196</td>\n",
       "    </tr>\n",
       "    <tr>\n",
       "      <th>Crop_Damage</th>\n",
       "      <td>0.202312</td>\n",
       "      <td>0.021772</td>\n",
       "      <td>-0.059481</td>\n",
       "      <td>0.199195</td>\n",
       "      <td>-0.018363</td>\n",
       "      <td>0.244988</td>\n",
       "      <td>-0.152918</td>\n",
       "      <td>-0.016196</td>\n",
       "      <td>1.000000</td>\n",
       "    </tr>\n",
       "  </tbody>\n",
       "</table>\n",
       "</div>"
      ],
      "text/plain": [
       "                         Estimated_Insects_Count  Crop_Type  Soil_Type  \\\n",
       "Estimated_Insects_Count                 1.000000  -0.036911  -0.151796   \n",
       "Crop_Type                              -0.036911   1.000000  -0.175019   \n",
       "Soil_Type                              -0.151796  -0.175019   1.000000   \n",
       "Pesticide_Use_Category                 -0.027111   0.349662   0.021661   \n",
       "Number_Doses_Week                      -0.122509  -0.163832   0.050099   \n",
       "Number_Weeks_Used                       0.449470  -0.002237  -0.098399   \n",
       "Number_Weeks_Quit                       0.246719  -0.273475  -0.034355   \n",
       "Season                                 -0.009482  -0.000549   0.011052   \n",
       "Crop_Damage                             0.202312   0.021772  -0.059481   \n",
       "\n",
       "                         Pesticide_Use_Category  Number_Doses_Week  \\\n",
       "Estimated_Insects_Count               -0.027111          -0.122509   \n",
       "Crop_Type                              0.349662          -0.163832   \n",
       "Soil_Type                              0.021661           0.050099   \n",
       "Pesticide_Use_Category                 1.000000          -0.005985   \n",
       "Number_Doses_Week                     -0.005985           1.000000   \n",
       "Number_Weeks_Used                      0.387982           0.104022   \n",
       "Number_Weeks_Quit                     -0.569467          -0.032381   \n",
       "Season                                 0.008487          -0.003768   \n",
       "Crop_Damage                            0.199195          -0.018363   \n",
       "\n",
       "                         Number_Weeks_Used  Number_Weeks_Quit    Season  \\\n",
       "Estimated_Insects_Count           0.449470           0.246719 -0.009482   \n",
       "Crop_Type                        -0.002237          -0.273475 -0.000549   \n",
       "Soil_Type                        -0.098399          -0.034355  0.011052   \n",
       "Pesticide_Use_Category            0.387982          -0.569467  0.008487   \n",
       "Number_Doses_Week                 0.104022          -0.032381 -0.003768   \n",
       "Number_Weeks_Used                 1.000000          -0.467386 -0.011108   \n",
       "Number_Weeks_Quit                -0.467386           1.000000  0.004861   \n",
       "Season                           -0.011108           0.004861  1.000000   \n",
       "Crop_Damage                       0.244988          -0.152918 -0.016196   \n",
       "\n",
       "                         Crop_Damage  \n",
       "Estimated_Insects_Count     0.202312  \n",
       "Crop_Type                   0.021772  \n",
       "Soil_Type                  -0.059481  \n",
       "Pesticide_Use_Category      0.199195  \n",
       "Number_Doses_Week          -0.018363  \n",
       "Number_Weeks_Used           0.244988  \n",
       "Number_Weeks_Quit          -0.152918  \n",
       "Season                     -0.016196  \n",
       "Crop_Damage                 1.000000  "
      ]
     },
     "execution_count": 28,
     "metadata": {},
     "output_type": "execute_result"
    }
   ],
   "source": [
    "# Correlated data \n",
    "Ag_data.corr()"
   ]
  },
  {
   "cell_type": "code",
   "execution_count": 29,
   "metadata": {},
   "outputs": [
    {
     "data": {
      "image/png": "[encoded data removed]",
      "text/plain": [
       "<Figure size 720x432 with 2 Axes>"
      ]
     },
     "metadata": {
      "needs_background": "light"
     },
     "output_type": "display_data"
    }
   ],
   "source": [
    "# Heatmap presentation of correlation\n",
    "plt.figure(figsize=(10,6))\n",
    "sns.heatmap(Ag_data.corr())\n",
    "plt.show()"
   ]
  },
  {
   "cell_type": "markdown",
   "metadata": {},
   "source": [
    "Here, almost every dimension is related to each other. Mainly, Insect count and number of weeks used.\n",
    "Crop type and Pesticide used.\n",
    "\n",
    "Season is having consisting ratio with other values throughout. "
   ]
  },
  {
   "cell_type": "markdown",
   "metadata": {},
   "source": [
    "---"
   ]
  },
  {
   "cell_type": "markdown",
   "metadata": {},
   "source": [
    "<b> Checking for Outliers"
   ]
  },
  {
   "cell_type": "code",
   "execution_count": 31,
   "metadata": {},
   "outputs": [
    {
     "data": {
      "text/plain": [
       "<AxesSubplot:>"
      ]
     },
     "execution_count": 31,
     "metadata": {},
     "output_type": "execute_result"
    },
    {
     "data": {
      "image/png": "[encoded data removed]",
      "text/plain": [
       "<Figure size 1152x360 with 1 Axes>"
      ]
     },
     "metadata": {
      "needs_background": "light"
     },
     "output_type": "display_data"
    }
   ],
   "source": [
    "plt.figure(figsize=(16,5))\n",
    "Ag_data.boxplot()"
   ]
  },
  {
   "cell_type": "markdown",
   "metadata": {},
   "source": [
    "Not considering Insect count more that 3000 as outlier as it can be a real case."
   ]
  },
  {
   "cell_type": "code",
   "execution_count": 32,
   "metadata": {},
   "outputs": [
    {
     "data": {
      "text/plain": [
       "array([[<AxesSubplot:title={'center':'Estimated_Insects_Count'}>,\n",
       "        <AxesSubplot:title={'center':'Crop_Type'}>,\n",
       "        <AxesSubplot:title={'center':'Soil_Type'}>],\n",
       "       [<AxesSubplot:title={'center':'Pesticide_Use_Category'}>,\n",
       "        <AxesSubplot:title={'center':'Number_Doses_Week'}>,\n",
       "        <AxesSubplot:title={'center':'Number_Weeks_Used'}>],\n",
       "       [<AxesSubplot:title={'center':'Number_Weeks_Quit'}>,\n",
       "        <AxesSubplot:title={'center':'Season'}>,\n",
       "        <AxesSubplot:title={'center':'Crop_Damage'}>]], dtype=object)"
      ]
     },
     "execution_count": 32,
     "metadata": {},
     "output_type": "execute_result"
    },
    {
     "data": {
      "image/png": "[encoded data removed]",
      "text/plain": [
       "<Figure size 432x288 with 9 Axes>"
      ]
     },
     "metadata": {
      "needs_background": "light"
     },
     "output_type": "display_data"
    }
   ],
   "source": [
    "# Representing data on Histogram\n",
    "Ag_data.hist()"
   ]
  },
  {
   "cell_type": "markdown",
   "metadata": {},
   "source": [
    "Data is highly skewed either at right or left of the graph."
   ]
  },
  {
   "cell_type": "markdown",
   "metadata": {},
   "source": [
    "<b> Data visualisation"
   ]
  },
  {
   "cell_type": "code",
   "execution_count": 41,
   "metadata": {},
   "outputs": [
    {
     "data": {
      "text/plain": [
       "<AxesSubplot:xlabel='Crop_Type', ylabel='count'>"
      ]
     },
     "execution_count": 41,
     "metadata": {},
     "output_type": "execute_result"
    },
    {
     "data": {
      "image/png": "[encoded data removed]",
      "text/plain": [
       "<Figure size 432x288 with 1 Axes>"
      ]
     },
     "metadata": {
      "needs_background": "light"
     },
     "output_type": "display_data"
    }
   ],
   "source": [
    "#Checking Relationships between various \n",
    "\n",
    "sns.countplot(x='Crop_Type',data=Ag_data)"
   ]
  },
  {
   "cell_type": "code",
   "execution_count": 42,
   "metadata": {},
   "outputs": [
    {
     "data": {
      "text/plain": [
       "<AxesSubplot:xlabel='Number_Doses_Week', ylabel='count'>"
      ]
     },
     "execution_count": 42,
     "metadata": {},
     "output_type": "execute_result"
    },
    {
     "data": {
      "image/png": "[encoded data removed]",
      "text/plain": [
       "<Figure size 432x288 with 1 Axes>"
      ]
     },
     "metadata": {
      "needs_background": "light"
     },
     "output_type": "display_data"
    }
   ],
   "source": [
    "sns.countplot(x='Number_Doses_Week',data=Ag_data)"
   ]
  },
  {
   "cell_type": "code",
   "execution_count": 45,
   "metadata": {},
   "outputs": [
    {
     "data": {
      "text/plain": [
       "<AxesSubplot:xlabel='Number_Weeks_Used', ylabel='count'>"
      ]
     },
     "execution_count": 45,
     "metadata": {},
     "output_type": "execute_result"
    },
    {
     "data": {
      "image/png": "[encoded data removed]",
      "text/plain": [
       "<Figure size 1080x1080 with 1 Axes>"
      ]
     },
     "metadata": {
      "needs_background": "light"
     },
     "output_type": "display_data"
    }
   ],
   "source": [
    "from matplotlib.pyplot import figure\n",
    "figure(num=None,figsize=(15,15))\n",
    "sns.countplot(x='Number_Weeks_Used',data=Ag_data)"
   ]
  },
  {
   "cell_type": "code",
   "execution_count": 44,
   "metadata": {},
   "outputs": [
    {
     "data": {
      "text/plain": [
       "<AxesSubplot:xlabel='Pesticide_Use_Category', ylabel='count'>"
      ]
     },
     "execution_count": 44,
     "metadata": {},
     "output_type": "execute_result"
    },
    {
     "data": {
      "image/png": "[encoded data removed]",
      "text/plain": [
       "<Figure size 432x288 with 1 Axes>"
      ]
     },
     "metadata": {
      "needs_background": "light"
     },
     "output_type": "display_data"
    }
   ],
   "source": [
    "sns.countplot(x='Pesticide_Use_Category',data=Ag_data)"
   ]
  },
  {
   "cell_type": "code",
   "execution_count": 58,
   "metadata": {},
   "outputs": [],
   "source": [
    "Ag_data.drop(['ID'],axis=1,inplace=True)"
   ]
  },
  {
   "cell_type": "code",
   "execution_count": 59,
   "metadata": {},
   "outputs": [],
   "source": [
    "x=Ag_data.iloc[:,:-1]\n",
    "y=Ag_data.iloc[:,8]"
   ]
  },
  {
   "cell_type": "code",
   "execution_count": 60,
   "metadata": {},
   "outputs": [],
   "source": [
    "from sklearn.preprocessing import MinMaxScaler\n",
    "from sklearn.model_selection import train_test_split\n",
    "from sklearn.linear_model import LinearRegression, Lasso,Ridge,ElasticNet\n",
    "from sklearn.svm import SVR\n",
    "from sklearn.neighbors import KNeighborsRegressor\n",
    "from sklearn.tree import DecisionTreeRegressor\n",
    "\n",
    "from sklearn.metrics import mean_absolute_error,mean_squared_error,r2_score"
   ]
  },
  {
   "cell_type": "code",
   "execution_count": 61,
   "metadata": {},
   "outputs": [],
   "source": [
    "from sklearn.model_selection import train_test_split\n",
    "x_train, x_test , y_train , y_test =train_test_split(x,y, test_size=0.2,random_state=0)"
   ]
  },
  {
   "cell_type": "code",
   "execution_count": 62,
   "metadata": {},
   "outputs": [
    {
     "name": "stdout",
     "output_type": "stream",
     "text": [
      "score of  LinearRegression() is :  0.09911118184963841\n",
      "errors :\n",
      "mean_absolute_error  0.2780750882023831\n",
      "mean_squared_error  0.16489970005256605\n",
      "Root Mean  0.40607844076306987\n",
      "r2_score 0.1040268967973762\n",
      "*************************************************************************************\n",
      "\n",
      "\n",
      "score of  DecisionTreeRegressor() is :  0.9923149231283422\n",
      "errors :\n",
      "mean_absolute_error  0.32717391304347826\n",
      "mean_squared_error  0.41141304347826085\n",
      "Root Mean  0.6414148762526957\n",
      "r2_score -1.2353892769104355\n",
      "*************************************************************************************\n",
      "\n",
      "\n",
      "score of  KNeighborsRegressor() is :  0.3042443738859181\n",
      "errors :\n",
      "mean_absolute_error  0.2656521739130435\n",
      "mean_squared_error  0.18530434782608698\n",
      "Root Mean  0.43046991512309773\n",
      "r2_score -0.006840591618734848\n",
      "*************************************************************************************\n",
      "\n",
      "\n",
      "score of  SVR() is :  -0.04449335695743595\n",
      "errors :\n",
      "mean_absolute_error  0.24958176345606436\n",
      "mean_squared_error  0.1908352391080868\n",
      "Root Mean  0.436846928692519\n",
      "r2_score -0.03689237354332309\n",
      "*************************************************************************************\n",
      "\n",
      "\n",
      "score of  Lasso() is :  0.03893121911044328\n",
      "errors :\n",
      "mean_absolute_error  0.298279962981256\n",
      "mean_squared_error  0.17507259372881848\n",
      "Root Mean  0.41841677037233876\n",
      "r2_score 0.04875305995742618\n",
      "*************************************************************************************\n",
      "\n",
      "\n",
      "score of  Ridge() is :  0.09911108367909949\n",
      "errors :\n",
      "mean_absolute_error  0.27808478248124596\n",
      "mean_squared_error  0.16489489552595699\n",
      "Root Mean  0.40607252495823576\n",
      "r2_score 0.10405300191833133\n",
      "*************************************************************************************\n",
      "\n",
      "\n",
      "score of  ElasticNet() is :  0.06855396634898336\n",
      "errors :\n",
      "mean_absolute_error  0.29143333998725296\n",
      "mean_squared_error  0.16898218984025729\n",
      "Root Mean  0.4110744334548882\n",
      "r2_score 0.08184492167732016\n",
      "*************************************************************************************\n",
      "\n",
      "\n"
     ]
    }
   ],
   "source": [
    "model=[LinearRegression(),DecisionTreeRegressor(),KNeighborsRegressor(),SVR(),Lasso(),Ridge(),ElasticNet()]\n",
    "for m in model:\n",
    "    m.fit(x_train,y_train)\n",
    "    print('score of ', m,'is : ', m.score(x_train,y_train))\n",
    "    predm=m.predict(x_test)\n",
    "    print('errors :')\n",
    "    print('mean_absolute_error ',mean_absolute_error(y_test,predm))\n",
    "    print('mean_squared_error ', mean_squared_error(y_test,predm))\n",
    "    print('Root Mean ',np.sqrt(mean_squared_error(y_test,predm)))\n",
    "    print('r2_score',r2_score(y_test,predm))\n",
    "    print('*************************************************************************************')\n",
    "    print('\\n')"
   ]
  },
  {
   "cell_type": "markdown",
   "metadata": {},
   "source": [
    "Its a Classification Problem. Using Decision Classifier Algorithm to Identify if the Crop will be healthy or waste.\n",
    "\n",
    "score of  DecisionTreeRegressor() is :  0.9923149231283422\n",
    "errors :\n",
    "mean_absolute_error  0.32717391304347826\n",
    "mean_squared_error  0.41141304347826085\n",
    "Root Mean  0.6414148762526957\n",
    "r2_score -1.2353892769104355"
   ]
  },
  {
   "cell_type": "code",
   "execution_count": 68,
   "metadata": {},
   "outputs": [],
   "source": [
    "\n",
    "from sklearn.datasets import load_iris\n",
    "from sklearn import tree\n",
    "x, y = load_iris(return_X_y=True)\n",
    "clf = tree.DecisionTreeClassifier()\n",
    "clf = clf.fit(x, y)"
   ]
  },
  {
   "cell_type": "code",
   "execution_count": 69,
   "metadata": {},
   "outputs": [
    {
     "data": {
      "text/plain": [
       "[Text(446.4, 498.3, 'X[3] <= 0.8\\ngini = 0.667\\nsamples = 150\\nvalue = [50, 50, 50]'),\n",
       " Text(377.7230769230769, 407.70000000000005, 'gini = 0.0\\nsamples = 50\\nvalue = [50, 0, 0]'),\n",
       " Text(515.0769230769231, 407.70000000000005, 'X[3] <= 1.75\\ngini = 0.5\\nsamples = 100\\nvalue = [0, 50, 50]'),\n",
       " Text(274.7076923076923, 317.1, 'X[2] <= 4.95\\ngini = 0.168\\nsamples = 54\\nvalue = [0, 49, 5]'),\n",
       " Text(137.35384615384615, 226.5, 'X[3] <= 1.65\\ngini = 0.041\\nsamples = 48\\nvalue = [0, 47, 1]'),\n",
       " Text(68.67692307692307, 135.89999999999998, 'gini = 0.0\\nsamples = 47\\nvalue = [0, 47, 0]'),\n",
       " Text(206.03076923076924, 135.89999999999998, 'gini = 0.0\\nsamples = 1\\nvalue = [0, 0, 1]'),\n",
       " Text(412.0615384615385, 226.5, 'X[3] <= 1.55\\ngini = 0.444\\nsamples = 6\\nvalue = [0, 2, 4]'),\n",
       " Text(343.38461538461536, 135.89999999999998, 'gini = 0.0\\nsamples = 3\\nvalue = [0, 0, 3]'),\n",
       " Text(480.73846153846154, 135.89999999999998, 'X[2] <= 5.45\\ngini = 0.444\\nsamples = 3\\nvalue = [0, 2, 1]'),\n",
       " Text(412.0615384615385, 45.299999999999955, 'gini = 0.0\\nsamples = 2\\nvalue = [0, 2, 0]'),\n",
       " Text(549.4153846153846, 45.299999999999955, 'gini = 0.0\\nsamples = 1\\nvalue = [0, 0, 1]'),\n",
       " Text(755.4461538461538, 317.1, 'X[2] <= 4.85\\ngini = 0.043\\nsamples = 46\\nvalue = [0, 1, 45]'),\n",
       " Text(686.7692307692307, 226.5, 'X[1] <= 3.1\\ngini = 0.444\\nsamples = 3\\nvalue = [0, 1, 2]'),\n",
       " Text(618.0923076923077, 135.89999999999998, 'gini = 0.0\\nsamples = 2\\nvalue = [0, 0, 2]'),\n",
       " Text(755.4461538461538, 135.89999999999998, 'gini = 0.0\\nsamples = 1\\nvalue = [0, 1, 0]'),\n",
       " Text(824.123076923077, 226.5, 'gini = 0.0\\nsamples = 43\\nvalue = [0, 0, 43]')]"
      ]
     },
     "execution_count": 69,
     "metadata": {},
     "output_type": "execute_result"
    },
    {
     "data": {
      "image/png": "[encoded data removed]",
      "text/plain": [
       "<Figure size 1152x720 with 1 Axes>"
      ]
     },
     "metadata": {
      "needs_background": "light"
     },
     "output_type": "display_data"
    }
   ],
   "source": [
    "plt.figure(figsize=(16,10))\n",
    "tree.plot_tree(clf) \n"
   ]
  },
  {
   "cell_type": "code",
   "execution_count": null,
   "metadata": {},
   "outputs": [],
   "source": []
  },
  {
   "cell_type": "code",
   "execution_count": null,
   "metadata": {},
   "outputs": [],
   "source": []
  },
  {
   "cell_type": "code",
   "execution_count": null,
   "metadata": {},
   "outputs": [],
   "source": []
  },
  {
   "cell_type": "code",
   "execution_count": null,
   "metadata": {},
   "outputs": [],
   "source": []
  },
  {
   "cell_type": "code",
   "execution_count": null,
   "metadata": {},
   "outputs": [],
   "source": []
  },
  {
   "cell_type": "code",
   "execution_count": null,
   "metadata": {},
   "outputs": [],
   "source": []
  },
  {
   "cell_type": "code",
   "execution_count": null,
   "metadata": {},
   "outputs": [],
   "source": []
  },
  {
   "cell_type": "code",
   "execution_count": null,
   "metadata": {},
   "outputs": [],
   "source": []
  },
  {
   "cell_type": "code",
   "execution_count": null,
   "metadata": {},
   "outputs": [],
   "source": []
  },
  {
   "cell_type": "code",
   "execution_count": null,
   "metadata": {},
   "outputs": [],
   "source": []
  }
 ],
 "metadata": {
  "kernelspec": {
   "display_name": "Python 3",
   "language": "python",
   "name": "python3"
  },
  "language_info": {
   "codemirror_mode": {
    "name": "ipython",
    "version": 3
   },
   "file_extension": ".py",
   "mimetype": "text/x-python",
   "name": "python",
   "nbconvert_exporter": "python",
   "pygments_lexer": "ipython3",
   "version": "3.8.5"
  }
 },
 "nbformat": 4,
 "nbformat_minor": 4
}
