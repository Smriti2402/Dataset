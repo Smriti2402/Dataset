{
 "cells": [
  {
   "cell_type": "markdown",
   "id": "0499c860",
   "metadata": {},
   "source": [
    "<b> This is to write a code where we generate random numbers</b>\n",
    "For example - We have programs where system throws random units like tetris. Here we will learn to generate random numbers so that we can create a program where things are not distinct.\n",
    "\n",
    "For this we will be using libraries or modules like <b>Random</b>\n",
    "\n",
    "One can use https://www.askpython.com/ to know about different Python functionalities.\n",
    "Also, one can visit https://www.askpython.com/python-modules/python-random-module-generate-random-numbers-sequences for this specific part of learning on Random Libraries."
   ]
  },
  {
   "cell_type": "code",
   "execution_count": 1,
   "id": "f1131681",
   "metadata": {},
   "outputs": [],
   "source": [
    "# Caalling the random module\\library\n",
    "\n",
    "import random as rn\n"
   ]
  },
  {
   "cell_type": "code",
   "execution_count": 2,
   "id": "e31d9604",
   "metadata": {},
   "outputs": [
    {
     "name": "stdout",
     "output_type": "stream",
     "text": [
      "5\n"
     ]
    }
   ],
   "source": [
    "random_integer = rn.randint(1,10)\n",
    "print(random_integer)"
   ]
  },
  {
   "cell_type": "markdown",
   "id": "c85e3292",
   "metadata": {},
   "source": [
    "We can prepare our own module by creating another page with all the functions we want, then importing that .py page in the working sheet.\n",
    "\n",
    "Example - I created sheet with the name My_Module.py, where i wrote the code pi = 3.14.\n",
    "\n",
    "Now, when I am calling My_module.py in my current worksheet and call value of pi, it will reflect.\n",
    "\n",
    "code :\n",
    "\n",
    "import My_Module\n",
    "\n",
    "print(My_Module.pi)"
   ]
  },
  {
   "cell_type": "code",
   "execution_count": 6,
   "id": "dce7529c",
   "metadata": {},
   "outputs": [
    {
     "name": "stdout",
     "output_type": "stream",
     "text": [
      "0.4172578251445809\n"
     ]
    }
   ],
   "source": [
    "# Random float value\n",
    "\n",
    "Random_Float=rn.random() #-------------- random float does not take anything in arguement like rn.random(0,1).\n",
    "print(Random_Float)\n",
    "\n",
    "# It prints any random float value from 0 to 1"
   ]
  },
  {
   "cell_type": "markdown",
   "id": "a1b16999",
   "metadata": {},
   "source": [
    "What if we needed float value between a number greater than 1. We can multiply the vaue with the digit."
   ]
  },
  {
   "cell_type": "code",
   "execution_count": 8,
   "id": "acb17280",
   "metadata": {},
   "outputs": [
    {
     "name": "stdout",
     "output_type": "stream",
     "text": [
      "2.0862891257229044\n"
     ]
    },
    {
     "data": {
      "text/plain": [
       "5.837114689202593"
      ]
     },
     "execution_count": 8,
     "metadata": {},
     "output_type": "execute_result"
    }
   ],
   "source": [
    "print(Random_Float*5)\n",
    "#or\n",
    "Random_Float=rn.random()*5\n",
    "#or\n",
    "Random_Float *5"
   ]
  },
  {
   "cell_type": "code",
   "execution_count": 9,
   "id": "5c5cb844",
   "metadata": {},
   "outputs": [
    {
     "name": "stdout",
     "output_type": "stream",
     "text": [
      "1.1674229378405188 % is your probability to win a game\n"
     ]
    }
   ],
   "source": [
    "print(f'{Random_Float} % is your probability to win a game')"
   ]
  },
  {
   "cell_type": "code",
   "execution_count": 20,
   "id": "ee68819a",
   "metadata": {},
   "outputs": [
    {
     "name": "stdout",
     "output_type": "stream",
     "text": [
      "1\n",
      "Tails\n"
     ]
    }
   ],
   "source": [
    "# Program to tell user if its a head or tail\n",
    "# 0 is classified as interger\n",
    "\n",
    "Coin_flip=rn.randint(0,1)\n",
    "print(Coin_flip)\n",
    "\n",
    "if Coin_flip ==0:\n",
    "    print('Heads')\n",
    "else:\n",
    "    print('Tails')"
   ]
  },
  {
   "cell_type": "markdown",
   "id": "5da4f620",
   "metadata": {},
   "source": [
    "<b><u>List </u>- </b> \n",
    "List is used to store data related to each other in one variable. eg. states_of_america=[....state_list....]"
   ]
  },
  {
   "cell_type": "markdown",
   "id": "1c76775e",
   "metadata": {},
   "source": [
    "split() will split the word or string based on the condition given. split() is used in below example to understand.\n",
    "Its a core python function and used with string\\variable.split()."
   ]
  },
  {
   "cell_type": "code",
   "execution_count": 12,
   "id": "c3349d0c",
   "metadata": {},
   "outputs": [
    {
     "name": "stdout",
     "output_type": "stream",
     "text": [
      " Enlist all the names separated by comma and space : Harry, John, Angela, Mark, Julie\n",
      "Julie will pay the bill today\n"
     ]
    }
   ],
   "source": [
    "# Program where any random person will pay the bill at restraunt after meal. Each one of them will pull their credit card \n",
    "# and Program will randomly take one persons name\n",
    "\n",
    "import random as rn\n",
    "\n",
    "Complete_Name=input(' Enlist all the names separated by comma and space : ')\n",
    "\n",
    "Name_List=Complete_Name.split(', ')\n",
    "\n",
    "ran=Name_List[rn.randint(0,len(Name_List)-1)]\n",
    "#print(Name_List,ran)\n",
    "print(f'{ran} will pay the bill today')"
   ]
  },
  {
   "cell_type": "code",
   "execution_count": 14,
   "id": "108e6d87",
   "metadata": {},
   "outputs": [
    {
     "name": "stdout",
     "output_type": "stream",
     "text": [
      "John\n"
     ]
    }
   ],
   "source": [
    "# Instead of writing above code, we can use choice() from random module, which will return the same result.\n",
    "\n",
    "random_list = rn.choice(Name_List)\n",
    "print(random_list)"
   ]
  },
  {
   "cell_type": "code",
   "execution_count": 8,
   "id": "2e8000ea",
   "metadata": {},
   "outputs": [
    {
     "data": {
      "text/plain": [
       "array([45, 48, 65, 68, 68, 10, 84, 22, 37, 88])"
      ]
     },
     "execution_count": 8,
     "metadata": {},
     "output_type": "execute_result"
    }
   ],
   "source": [
    "import random as rn\n",
    "import numpy as np\n",
    "\n",
    "np.random.seed(0)\n",
    "arr=np.random.randint(1,100,10)\n",
    "arr"
   ]
  },
  {
   "cell_type": "code",
   "execution_count": 11,
   "id": "ea8d2333",
   "metadata": {},
   "outputs": [
    {
     "data": {
      "text/plain": [
       "['BPF',\n",
       " 'LOG4',\n",
       " 'NV_MAGICCONST',\n",
       " 'RECIP_BPF',\n",
       " 'Random',\n",
       " 'SG_MAGICCONST',\n",
       " 'SystemRandom',\n",
       " 'TWOPI',\n",
       " '_ONE',\n",
       " '_Sequence',\n",
       " '_Set',\n",
       " '__all__',\n",
       " '__builtins__',\n",
       " '__cached__',\n",
       " '__doc__',\n",
       " '__file__',\n",
       " '__loader__',\n",
       " '__name__',\n",
       " '__package__',\n",
       " '__spec__',\n",
       " '_accumulate',\n",
       " '_acos',\n",
       " '_bisect',\n",
       " '_ceil',\n",
       " '_cos',\n",
       " '_e',\n",
       " '_exp',\n",
       " '_floor',\n",
       " '_index',\n",
       " '_inst',\n",
       " '_isfinite',\n",
       " '_log',\n",
       " '_os',\n",
       " '_pi',\n",
       " '_random',\n",
       " '_repeat',\n",
       " '_sha512',\n",
       " '_sin',\n",
       " '_sqrt',\n",
       " '_test',\n",
       " '_test_generator',\n",
       " '_urandom',\n",
       " '_warn',\n",
       " 'betavariate',\n",
       " 'choice',\n",
       " 'choices',\n",
       " 'expovariate',\n",
       " 'gammavariate',\n",
       " 'gauss',\n",
       " 'getrandbits',\n",
       " 'getstate',\n",
       " 'lognormvariate',\n",
       " 'normalvariate',\n",
       " 'paretovariate',\n",
       " 'randbytes',\n",
       " 'randint',\n",
       " 'random',\n",
       " 'randrange',\n",
       " 'sample',\n",
       " 'seed',\n",
       " 'setstate',\n",
       " 'shuffle',\n",
       " 'triangular',\n",
       " 'uniform',\n",
       " 'vonmisesvariate',\n",
       " 'weibullvariate']"
      ]
     },
     "execution_count": 11,
     "metadata": {},
     "output_type": "execute_result"
    }
   ],
   "source": [
    "# to identify all the functions available in random module.\n",
    "\n",
    "import random\n",
    "dir (random)"
   ]
  },
  {
   "cell_type": "code",
   "execution_count": 2,
   "id": "eb9de029",
   "metadata": {},
   "outputs": [
    {
     "name": "stdout",
     "output_type": "stream",
     "text": [
      "['Apple', 'Oranges', 'Grapes', 'Mango', 'Spinach', 'Potato', 'Lady finger']\n"
     ]
    }
   ],
   "source": [
    "# Nested List\n",
    "\n",
    "Fruits = ['Apple','Oranges','Grapes','Mango']\n",
    "Veg = ['Spinach','Potato','Lady finger']\n",
    "\n",
    "Eatery=Fruits + Veg\n",
    "\n",
    "print(Eatery)"
   ]
  },
  {
   "cell_type": "code",
   "execution_count": 9,
   "id": "c32c4727",
   "metadata": {},
   "outputs": [
    {
     "name": "stdout",
     "output_type": "stream",
     "text": [
      "[['Apple', 'Oranges', 'Grapes', 'Mango'], ['Spinach', 'Potato', 'Lady finger']]\n"
     ]
    }
   ],
   "source": [
    "Eatery=[Fruits , Veg]\n",
    "\n",
    "print(Eatery)"
   ]
  },
  {
   "cell_type": "code",
   "execution_count": 11,
   "id": "58af96b3",
   "metadata": {},
   "outputs": [
    {
     "data": {
      "text/plain": [
       "'Potato'"
      ]
     },
     "execution_count": 11,
     "metadata": {},
     "output_type": "execute_result"
    }
   ],
   "source": [
    "Eatery[1][1]"
   ]
  },
  {
   "cell_type": "code",
   "execution_count": 10,
   "id": "dffc2353",
   "metadata": {},
   "outputs": [
    {
     "name": "stdout",
     "output_type": "stream",
     "text": [
      "[1, 2, 3, 4, 5]\n"
     ]
    }
   ],
   "source": [
    "# Append Function - Adds the item at the end of the list\n",
    "\n",
    "l=[1,2,3,4]\n",
    "l.append(5)\n",
    "print(l)"
   ]
  },
  {
   "cell_type": "code",
   "execution_count": 12,
   "id": "b477be14",
   "metadata": {},
   "outputs": [
    {
     "name": "stdout",
     "output_type": "stream",
     "text": [
      "[45, 2, 3, 4, 5]\n"
     ]
    }
   ],
   "source": [
    "# Replace the item\n",
    "\n",
    "l[0]=45\n",
    "print(l)"
   ]
  },
  {
   "cell_type": "code",
   "execution_count": 13,
   "id": "0dd923fd",
   "metadata": {},
   "outputs": [
    {
     "name": "stdout",
     "output_type": "stream",
     "text": [
      "[45, 2, 3, 4, 100]\n"
     ]
    }
   ],
   "source": [
    "l[-1]=100\n",
    "print(l)"
   ]
  },
  {
   "cell_type": "code",
   "execution_count": 2,
   "id": "56ec2c2b",
   "metadata": {},
   "outputs": [
    {
     "name": "stdout",
     "output_type": "stream",
     "text": [
      "please enter a number b/w 1 to 3 : 2\n",
      "You Win\n",
      "1 2\n"
     ]
    }
   ],
   "source": [
    "# Rock, Paper & Scissor game\n",
    "\n",
    "import random as rn\n",
    "\n",
    "Computer_Value = rn.randint(1,3)\n",
    "\n",
    "Human_Value=int(input('please enter a number b/w 1 to 3 : '))\n",
    "\n",
    "if Computer_Value ==1 and Human_Value==2:\n",
    "    print('You Win')\n",
    "else :\n",
    "    print('You lose')\n",
    "    \n",
    "print (Computer_Value,Human_Value)"
   ]
  },
  {
   "cell_type": "code",
   "execution_count": null,
   "id": "cb6f02b4",
   "metadata": {},
   "outputs": [],
   "source": []
  },
  {
   "cell_type": "code",
   "execution_count": null,
   "id": "403fbd58",
   "metadata": {},
   "outputs": [],
   "source": []
  },
  {
   "cell_type": "code",
   "execution_count": null,
   "id": "f33e22a9",
   "metadata": {},
   "outputs": [],
   "source": []
  },
  {
   "cell_type": "code",
   "execution_count": null,
   "id": "3646e7b1",
   "metadata": {},
   "outputs": [],
   "source": []
  },
  {
   "cell_type": "code",
   "execution_count": null,
   "id": "e699a3e6",
   "metadata": {},
   "outputs": [],
   "source": []
  },
  {
   "cell_type": "code",
   "execution_count": null,
   "id": "34a0552e",
   "metadata": {},
   "outputs": [],
   "source": []
  },
  {
   "cell_type": "code",
   "execution_count": null,
   "id": "5687bb24",
   "metadata": {},
   "outputs": [],
   "source": []
  },
  {
   "cell_type": "code",
   "execution_count": null,
   "id": "ca7a9cdd",
   "metadata": {},
   "outputs": [],
   "source": []
  },
  {
   "cell_type": "code",
   "execution_count": null,
   "id": "ab2250dd",
   "metadata": {},
   "outputs": [],
   "source": []
  },
  {
   "cell_type": "code",
   "execution_count": null,
   "id": "f7180d66",
   "metadata": {},
   "outputs": [],
   "source": []
  },
  {
   "cell_type": "code",
   "execution_count": null,
   "id": "a88413fa",
   "metadata": {},
   "outputs": [],
   "source": []
  },
  {
   "cell_type": "code",
   "execution_count": null,
   "id": "f483d6a6",
   "metadata": {},
   "outputs": [],
   "source": []
  },
  {
   "cell_type": "code",
   "execution_count": null,
   "id": "1dd18779",
   "metadata": {},
   "outputs": [],
   "source": []
  },
  {
   "cell_type": "code",
   "execution_count": null,
   "id": "e3ad471b",
   "metadata": {},
   "outputs": [],
   "source": []
  },
  {
   "cell_type": "code",
   "execution_count": null,
   "id": "953710a9",
   "metadata": {},
   "outputs": [],
   "source": []
  },
  {
   "cell_type": "code",
   "execution_count": null,
   "id": "54728790",
   "metadata": {},
   "outputs": [],
   "source": []
  },
  {
   "cell_type": "code",
   "execution_count": null,
   "id": "78ffad34",
   "metadata": {},
   "outputs": [],
   "source": []
  },
  {
   "cell_type": "code",
   "execution_count": null,
   "id": "87c68f86",
   "metadata": {},
   "outputs": [],
   "source": []
  },
  {
   "cell_type": "code",
   "execution_count": null,
   "id": "2541b36c",
   "metadata": {},
   "outputs": [],
   "source": []
  },
  {
   "cell_type": "code",
   "execution_count": null,
   "id": "527a74d5",
   "metadata": {},
   "outputs": [],
   "source": []
  },
  {
   "cell_type": "code",
   "execution_count": null,
   "id": "bd1cb124",
   "metadata": {},
   "outputs": [],
   "source": []
  },
  {
   "cell_type": "code",
   "execution_count": null,
   "id": "e6011608",
   "metadata": {},
   "outputs": [],
   "source": []
  },
  {
   "cell_type": "code",
   "execution_count": null,
   "id": "fc73e237",
   "metadata": {},
   "outputs": [],
   "source": []
  },
  {
   "cell_type": "code",
   "execution_count": null,
   "id": "c208f97e",
   "metadata": {},
   "outputs": [],
   "source": []
  },
  {
   "cell_type": "code",
   "execution_count": null,
   "id": "03dd7219",
   "metadata": {},
   "outputs": [],
   "source": []
  },
  {
   "cell_type": "code",
   "execution_count": null,
   "id": "0abab306",
   "metadata": {},
   "outputs": [],
   "source": []
  },
  {
   "cell_type": "code",
   "execution_count": null,
   "id": "90d68b4d",
   "metadata": {},
   "outputs": [],
   "source": []
  },
  {
   "cell_type": "code",
   "execution_count": null,
   "id": "27477dc9",
   "metadata": {},
   "outputs": [],
   "source": []
  },
  {
   "cell_type": "code",
   "execution_count": null,
   "id": "936242c4",
   "metadata": {},
   "outputs": [],
   "source": []
  },
  {
   "cell_type": "code",
   "execution_count": null,
   "id": "ee04d950",
   "metadata": {},
   "outputs": [],
   "source": []
  },
  {
   "cell_type": "code",
   "execution_count": null,
   "id": "5bf54e11",
   "metadata": {},
   "outputs": [],
   "source": []
  },
  {
   "cell_type": "code",
   "execution_count": null,
   "id": "6f72fecb",
   "metadata": {},
   "outputs": [],
   "source": []
  },
  {
   "cell_type": "code",
   "execution_count": null,
   "id": "2eec5ab8",
   "metadata": {},
   "outputs": [],
   "source": []
  },
  {
   "cell_type": "code",
   "execution_count": null,
   "id": "b171496a",
   "metadata": {},
   "outputs": [],
   "source": []
  },
  {
   "cell_type": "code",
   "execution_count": null,
   "id": "781b0826",
   "metadata": {},
   "outputs": [],
   "source": []
  },
  {
   "cell_type": "code",
   "execution_count": null,
   "id": "fa2089fd",
   "metadata": {},
   "outputs": [],
   "source": []
  },
  {
   "cell_type": "code",
   "execution_count": null,
   "id": "109b0b67",
   "metadata": {},
   "outputs": [],
   "source": []
  }
 ],
 "metadata": {
  "kernelspec": {
   "display_name": "Python 3 (ipykernel)",
   "language": "python",
   "name": "python3"
  },
  "language_info": {
   "codemirror_mode": {
    "name": "ipython",
    "version": 3
   },
   "file_extension": ".py",
   "mimetype": "text/x-python",
   "name": "python",
   "nbconvert_exporter": "python",
   "pygments_lexer": "ipython3",
   "version": "3.10.9"
  }
 },
 "nbformat": 4,
 "nbformat_minor": 5
}
